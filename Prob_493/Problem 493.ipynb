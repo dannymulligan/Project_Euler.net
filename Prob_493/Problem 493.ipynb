{
 "metadata": {
  "name": "",
  "signature": "sha256:d68b4f51b2de1c12f542e0862325ea38acae90f81628935d7961a2a4345de978"
 },
 "nbformat": 3,
 "nbformat_minor": 0,
 "worksheets": [
  {
   "cells": [
    {
     "cell_type": "markdown",
     "metadata": {},
     "source": [
      "![Project Euler.net](https://projecteuler.net/images/pe_banner_light.png)\n",
      "\n",
      "https://projecteuler.net/problem=493\n",
      "Problem 493 - Under The Rainbow\n",
      "====\n",
      "\n",
      "70 colored balls are placed in an urn, 10 for each of the seven rainbow colors.\n",
      "\n",
      "What is the expected number of distinct colors in 20 randomly picked balls?\n",
      "\n",
      "Give your answer with nine digits after the decimal point (a.bcdefghij)."
     ]
    },
    {
     "cell_type": "code",
     "collapsed": false,
     "input": [
      "import time\n",
      "start_time = time.clock()\n",
      "print(\"time taken {:.1f} seconds\".format(time.clock() - start_time))\n"
     ],
     "language": "python",
     "metadata": {},
     "outputs": []
    },
    {
     "cell_type": "code",
     "collapsed": false,
     "input": [
      "solutions = list()\n",
      "\n",
      "solution = dict()\n",
      "picked = [0] * 7\n",
      "solution[str(picked)] = (picked, 1.0)\n",
      "solutions.append(solution)\n",
      "\n",
      "solution = dict()\n",
      "picked = [1, 0, 0, 0, 0, 0, 0]\n",
      "solution[str(picked)] = (picked, 1.0)\n",
      "solutions.append(solution)\n",
      "\n",
      "solution = dict()\n",
      "picked = [2, 0, 0, 0, 0, 0, 0]\n",
      "solution[str(picked)] = (picked, 9.0/69.0)\n",
      "picked = [1, 1, 0, 0, 0, 0, 0]\n",
      "solution[str(picked)] = (picked, 68.0/69.0)\n",
      "solutions.append(solution)\n",
      "\n",
      "print solutions"
     ],
     "language": "python",
     "metadata": {},
     "outputs": []
    },
    {
     "cell_type": "code",
     "collapsed": false,
     "input": [
      "def count(l):\n",
      "    ans = 0\n",
      "    for i in l:\n",
      "        if i != 0:\n",
      "            ans += 1\n",
      "    return ans"
     ],
     "language": "python",
     "metadata": {},
     "outputs": []
    },
    {
     "cell_type": "code",
     "collapsed": false,
     "input": [
      "solutions = list()\n",
      "\n",
      "solution = dict()\n",
      "picked = [0] * 7\n",
      "solution[str(picked)] = (picked, 1.0)\n",
      "solutions.append(solution)\n",
      "\n",
      "for ball in range(20):\n",
      "    this_level = solutions[ball]\n",
      "    next_level = dict()\n",
      "    for key in this_level:\n",
      "        solution, prob = this_level[key]\n",
      "        #print(\"ball={}, solution={}, prob={}\".format(ball, solution, prob))\n",
      "        \n",
      "        for color in range(7):\n",
      "            if solution[color] >= 10:\n",
      "                continue\n",
      "            new_prob = prob * (10-solution[color]) / (70-ball)\n",
      "            new_solution = solution[:]\n",
      "            new_solution[color] += 1\n",
      "            new_solution.sort()\n",
      "            \n",
      "            if str(new_solution) in next_level:\n",
      "                new_prob += next_level[str(new_solution)][1]\n",
      "            next_level[str(new_solution)] = (new_solution, new_prob)\n",
      "    solutions.append(next_level)\n",
      "    \n",
      "    print(\"Solution for level {}\".format(ball))\n",
      "    expected = 0.0\n",
      "    for key in next_level:\n",
      "        solution, prob = next_level[key]\n",
      "        #print(\"    solution={} count={} prob={}\".format(solution, count(solution), prob))\n",
      "        expected += count(solution) * prob\n",
      "    print(\"    Expected number of distinct colors is {:11.9f}\".format(expected))"
     ],
     "language": "python",
     "metadata": {},
     "outputs": []
    },
    {
     "cell_type": "code",
     "collapsed": false,
     "input": [],
     "language": "python",
     "metadata": {},
     "outputs": []
    }
   ],
   "metadata": {}
  }
 ]
}