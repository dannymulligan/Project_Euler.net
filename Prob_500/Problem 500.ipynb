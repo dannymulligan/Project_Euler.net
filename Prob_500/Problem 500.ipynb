{
 "metadata": {
  "name": "",
  "signature": "sha256:9c60f40ea73c1e495a357527404b2f41ebc88210107dd2f951e79411e1a6cf76"
 },
 "nbformat": 3,
 "nbformat_minor": 0,
 "worksheets": [
  {
   "cells": [
    {
     "cell_type": "markdown",
     "metadata": {},
     "source": [
      "![Project Euler.net](https://projecteuler.net/images/pe_banner_light.png)\n",
      "\n",
      "https://projecteuler.net/problem=500\n",
      "Problem 500 - Problem 500!!!\n",
      "====\n",
      "\n",
      "The number of divisors of 120 is 16.\n",
      "\n",
      "In fact 120 is the smallest number having 16 divisors.\n",
      "\n",
      "Find the smallest number with $2^{500500}$ divisors.\n",
      "\n",
      "Give your answer modulo $500500507$."
     ]
    },
    {
     "cell_type": "markdown",
     "metadata": {},
     "source": [
      "____\n",
      "\n",
      "A composite number of the form\n",
      "\n",
      "$N = P_1^{2^a-1} * P_2^{2^b-1} * ... * P_n^{2^z-1}$\n",
      "\n",
      "where $P_1$, $P_2$, $...$ & $P_n$ are different primes and $a$, $b$, $...$ & $z$ are composite numbers will have $2^{a+b+...+z}$ divisors.\n",
      "\n",
      "This is because the factors of $P_1^{2^a-1}$ are $P_1^0$, $P_1^1$, $P_1^2$, ... $P_1^{2^a-1}$, so there are $2^a$ possible divisors of $P_1^{2^a-1}$.\n",
      "\n",
      "Similarly, there are $2^b$ possible divisors of $P_2^{2^b-1}$.\n",
      "\n",
      "So the total number of divisors of $N$ is $2^a * 2^b * ... * 2^z = 2^{a+b+...+z}$\n",
      "\n",
      "So to calculate the smallest number with $2^{500500}$ divisors, we have to allocate $500500$ into $a$, $b$, $...$, & $z$ in such a way as to minimize $N = P_1^{2^a-1} * P_2^{2^b-1} * ... * P_n^{2^z-1}$."
     ]
    },
    {
     "cell_type": "code",
     "collapsed": false,
     "input": [
      "import time\n",
      "\n",
      "LIMIT_PRIME = 738*10**4\n",
      "prime_table = [1]*LIMIT_PRIME  # table of largest factor\n",
      "primes = []\n",
      "\n",
      "############################################################\n",
      "def calculate_primes(limit=LIMIT_PRIME):\n",
      "    start_time = time.clock()\n",
      "    if (limit>len(prime_table)):\n",
      "        raise Exception(\"prime_table is too small ({} entries, need at least {})\".format(len(prime_table), limit))\n",
      "\n",
      "    # Optimization to allow us to increment i by 2 for the rest of the algoritm\n",
      "    i = 2\n",
      "    prime_table[i] = i\n",
      "    primes.append(i)\n",
      "    j = i**2\n",
      "    while (j < limit):\n",
      "        prime_table[j] = i\n",
      "        j += i\n",
      "\n",
      "    i = 3\n",
      "    while (i < (limit/2)):\n",
      "        if (prime_table[i] == 1):\n",
      "            primes.append(i)\n",
      "            j = i**2\n",
      "            while (j < limit):\n",
      "                prime_table[j] = i\n",
      "                j += i\n",
      "        i += 2\n",
      "    while (i < limit):\n",
      "        if (prime_table[i] == 1):\n",
      "            primes.append(i)\n",
      "        i += 2\n",
      "    print(\"There are {} primes less than {}, calculated in {} seconds\".format(len(primes), limit, (time.clock() - start_time)))\n",
      "\n",
      "calculate_primes()"
     ],
     "language": "python",
     "metadata": {},
     "outputs": [
      {
       "output_type": "stream",
       "stream": "stdout",
       "text": [
        "There are 500717 primes less than 7380000, calculated in 2.962218 seconds\n"
       ]
      }
     ],
     "prompt_number": 1
    },
    {
     "cell_type": "markdown",
     "metadata": {},
     "source": [
      "Approach #1 - didn't work, too slow\n",
      "---\n",
      "\n",
      "*Keep adding 1's until we get to the number of divisors we need.*\n",
      "\n",
      "So we can increase the number of divisors by increasing $a$, $b$, ..., $z$, and we need to figure out which of $a$, $b$, ..., $z$ will cause the smallest increase in $N$.\n",
      "\n",
      "We can decide which of $a$, $b$, ..., $z$ will have the smallest increase in $N$ by evaluating $P_1^{2^{a+1}-1}/P_1^{2^a-1} = P_1^{2^{a+1}}/P_1^{2^a} = P_1^{2^a}$, and comparing it to $P_2^{2^b}$, and so on.\n",
      "\n",
      "Or we could do $n$ steps at once and evaluate $P_1^{2^{a+n}-1}/P_1^{2^a-1} = P_1^{2^{a+n}}/P_1^{2^a} = P_1^{2^a*2^n}/P_1^{2^a} = (P_1^{2^a})^{2^n}/P_1^{2^a} = (P_1^{2^a})^{2^n-1}$, and comparing it to $(P_2^{2^b})^{2^n-1}$, and so on.\n",
      "\n",
      "It would be equivalent to take the $(2^n-1)$th root of both sides and compare $(P_1^{2^a})$, and $(P_2^{2^b})$, and so on.\n",
      "\n",
      "An equivalent would be to take the log of both sides and compare $log(P_1^{2^a}) = 2^a*log(P_1)$, and $2^b*log(P_2)$, and so on.\n",
      "\n",
      "Take the log again of both sides and compare $log(2^a*log(P_1)) = log(2^a) + log^2(P_1) = a*log(2) + log^2(P_1)$, and $b*log(2) + log^2(P_2)$, and so on.\n",
      "\n",
      "So we must find the value $x$ for which $x*log(2) + log^2(P_c)$ is smallest."
     ]
    },
    {
     "cell_type": "code",
     "collapsed": false,
     "input": [
      "import math\n",
      "log_primes = list()\n",
      "log_log_primes = list()\n",
      "for prime in primes:\n",
      "    log_prime = math.log(prime)\n",
      "    log_log_prime = math.log(log_prime)\n",
      "    log_primes.append(log_prime)\n",
      "    log_log_primes.append(log_log_prime)"
     ],
     "language": "python",
     "metadata": {},
     "outputs": []
    },
    {
     "cell_type": "code",
     "collapsed": false,
     "input": [
      "solution = [2, 2, 3, 4, 5]\n",
      "target = 16 # The number of divisors we're looking for"
     ],
     "language": "python",
     "metadata": {},
     "outputs": []
    },
    {
     "cell_type": "code",
     "collapsed": false,
     "input": [
      "def comparison_function(i,n):\n",
      "  return log_log_primes[i] + solution[i]*math.log(2)"
     ],
     "language": "python",
     "metadata": {},
     "outputs": []
    },
    {
     "cell_type": "code",
     "collapsed": false,
     "input": [
      "for i in range(len(solution)):\n",
      "    print(\"{i}: prime[{i}] = {p}, solution[{i}] = {s}\".format(i=i, p=primes[i], s=solution[i]))\n",
      "    print(\"   comparison_function({i}, {n}) = {cf}\".format(i=i, n=1, cf=comparison_function(i,1)))\n"
     ],
     "language": "python",
     "metadata": {},
     "outputs": []
    },
    {
     "cell_type": "code",
     "collapsed": false,
     "input": [
      "def find_best_place(n):\n",
      "    # Evaluate adding N to P_0\n",
      "    best_i = 0\n",
      "    best_val = comparison_function(best_i, n)\n",
      "    #print(\"solution[0] = {}, val = {}\".format(solution[0], best_val))\n",
      "\n",
      "    # Search P_1...P_n for a better location\n",
      "    for i in range(1, len(solution)):\n",
      "        val = comparison_function(i, n)\n",
      "        #print(\"solution[{}] = {}, val = {}\".format(i, solution[i], val))\n",
      "        if val < best_val:\n",
      "            best_i = i\n",
      "            best_val = val\n",
      "\n",
      "    # Look at extending to P_(n+1)\n",
      "    if (solution[-1] != 0):\n",
      "        solution.append(0)\n",
      "        i = len(solution)-1\n",
      "        val = comparison_function(i,n)\n",
      "        #print(\"solution[{}] = {}, val = {}\".format(i, solution[i], val))\n",
      "        if val < best_val:\n",
      "            best_i = i\n",
      "            best_val = best_val\n",
      "            \n",
      "    # And make the change\n",
      "    solution[best_i] += n\n",
      "    return best_i\n"
     ],
     "language": "python",
     "metadata": {},
     "outputs": []
    },
    {
     "cell_type": "code",
     "collapsed": false,
     "input": [
      "target = 500\n",
      "n = 1\n",
      "print(\"Looking for smallest number with 2^{} divisors. (n={})\".format(target, n))\n",
      "solution = [1]\n",
      "while sum(solution) < target:\n",
      "    if sum(solution) > target/4:\n",
      "        n = 1\n",
      "    x = find_best_place(n)\n",
      "    #print(\"Adding {n} to solution[{x}], sum = {s}, solution = __\".format(n=n, x=x, s=sum(solution), ss=solution))\n",
      "print solution"
     ],
     "language": "python",
     "metadata": {},
     "outputs": []
    },
    {
     "cell_type": "code",
     "collapsed": false,
     "input": [
      "len(solution)"
     ],
     "language": "python",
     "metadata": {},
     "outputs": []
    },
    {
     "cell_type": "code",
     "collapsed": false,
     "input": [
      "sum(solution)"
     ],
     "language": "python",
     "metadata": {},
     "outputs": []
    },
    {
     "cell_type": "code",
     "collapsed": true,
     "input": [
      "solution"
     ],
     "language": "python",
     "metadata": {},
     "outputs": []
    },
    {
     "cell_type": "code",
     "collapsed": false,
     "input": [
      "for i in range(len(solution)):\n",
      "    print(\"{}: {}^{} *\".format(i, primes[i], solution[i]))"
     ],
     "language": "python",
     "metadata": {},
     "outputs": []
    },
    {
     "cell_type": "markdown",
     "metadata": {},
     "source": [
      "Approach #2\n",
      "---\n",
      "\n",
      "*Start off with an array of 1's and take them off the end until we can't anymore*\n",
      "\n",
      "We start off with a list of primes long enough to give us the required number of factors, then we try to take primes off the end of the list and replace them with higher powers of earlier primes that have a smaller impact on the size of the final number.\n",
      "\n",
      "We will implicitly assume an array of $P_n^1$, tracked by a variable that tracks the length of the array.  We will only explicitly track primes where we're using higher than a power of 1.\n",
      "\n",
      "So we need to evalue the cost of increasing one of $a$, $b$, ..., $y$ by one, and see that it is less than the savings by decreasing $z$ to zero.\n",
      "\n",
      "We start off by evaluating the benefit by decreasing $z$ to 0, which is $P_z$.  Then we compare it to the cost of increasing $a$ by 1, which is $P_1^{2^{a+1}-1}/P_1^{2^a-1} = P_1^{2^{a+1}}/P_1^{2^a} = P_1^{2*2^a}/P_1^{2^a} = P_1^{2^a}*P_1^{2^a}/P_1^{2^a} = P_1^{2^a}$, and compare it to $P_z$, and so on.\n",
      "\n",
      "It would be equivalent to take the log of both sides and compare $log(P_1^{2^a}) = 2^a*log(P_1)$ to $log(P_z)$.\n",
      "\n",
      "Take the log again of both sides and now we compare $log(2^a*log(P_1)) = log(2^a) + log^2(P_1) = a*log(2) + log^2(P_1)$, to $log^2(P_z)$.\n"
     ]
    },
    {
     "cell_type": "code",
     "collapsed": false,
     "input": [
      "import math\n",
      "log_primes = list()\n",
      "log_log_primes = list()\n",
      "for prime in primes:\n",
      "    log_prime = math.log(prime)\n",
      "    log_log_prime = math.log(log_prime)\n",
      "    log_primes.append(log_prime)\n",
      "    log_log_primes.append(log_log_prime)"
     ],
     "language": "python",
     "metadata": {},
     "outputs": [],
     "prompt_number": 2
    },
    {
     "cell_type": "code",
     "collapsed": false,
     "input": [
      "def evaluation_function(i):\n",
      "    #print(\"evaluation_function({})\".format(i))\n",
      "    return log_log_primes[i] + (1+solution[i])*math.log(2)"
     ],
     "language": "python",
     "metadata": {},
     "outputs": [],
     "prompt_number": 3
    },
    {
     "cell_type": "code",
     "collapsed": false,
     "input": [
      "def improve_solution():\n",
      "    # Evaluate P_z\n",
      "    best_i = solution_len - 1\n",
      "    best_val = log_log_primes[best_i]\n",
      "    #print(\"solution[{}] = 1, val = {}\".format(solution_len-1, best_val))\n",
      "\n",
      "    # Search P_1...P_n for a better location\n",
      "    for i in range(len(solution)):\n",
      "        val = evaluation_function(i)\n",
      "        #print(\"solution[{}] = {}, val = {}\".format(i, solution[i]+1, val))\n",
      "        if val < best_val:\n",
      "            best_i = i\n",
      "            best_val = val\n",
      "\n",
      "    # Look at extending to P_(n+1)\n",
      "    if (solution[-1] != 0):\n",
      "        solution.append(0)\n",
      "        i = len(solution)-1\n",
      "        val = evaluation_function(i)\n",
      "        #print(\"solution[{}] = {}, val = {}\".format(i, solution[i]+1, val))\n",
      "        if val < best_val:\n",
      "            best_i = i\n",
      "            best_val = val\n",
      "\n",
      "    if (best_i == solution_len - 1):\n",
      "        #print(\"unable to improve answer\")\n",
      "        return False\n",
      "    else:\n",
      "        solution[best_i] += 1\n",
      "        #print(\"Improved answer by increasing solution[{}] to {}, solution[{}] to 0\\n\".format(best_i, solution[best_i]+1, solution_len-1))\n",
      "        return True"
     ],
     "language": "python",
     "metadata": {},
     "outputs": [],
     "prompt_number": 4
    },
    {
     "cell_type": "code",
     "collapsed": false,
     "input": [
      "target = 500500\n",
      "print(\"Looking for smallest number with 2^{} divisors.\".format(target))\n",
      "solution = [0]\n",
      "solution_len = target\n",
      "possible_to_improve = True\n",
      "while (sum(solution) < target) & possible_to_improve:\n",
      "    possible_to_improve = improve_solution()\n",
      "    if possible_to_improve:\n",
      "        solution_len -= 1\n",
      "print solution"
     ],
     "language": "python",
     "metadata": {},
     "outputs": [
      {
       "output_type": "stream",
       "stream": "stdout",
       "text": [
        "Looking for smallest number with 2^500500 divisors.\n",
        "[4, 3, 3, 3, 2, 2, 2, 2, 2, 2, 2, 2, 2, 2, 2, 1, 1, 1, 1, 1, 1, 1, 1, 1, 1, 1, 1, 1, 1, 1, 1, 1, 1, 1, 1, 1, 1, 1, 1, 1, 1, 1, 1, 1, 1, 1, 1, 1, 1, 1, 1, 1, 1, 1, 1, 1, 1, 1, 1, 1, 1, 1, 1, 1, 1, 1, 1, 1, 1, 1, 1, 1, 1, 1, 1, 1, 1, 1, 1, 1, 1, 1, 1, 1, 1, 1, 1, 1, 1, 1, 1, 1, 1, 1, 1, 1, 1, 1, 1, 1, 1, 1, 1, 1, 1, 1, 1, 1, 1, 1, 1, 1, 1, 1, 1, 1, 1, 1, 1, 1, 1, 1, 1, 1, 1, 1, 1, 1, 1, 1, 1, 1, 1, 1, 1, 1, 1, 1, 1, 1, 1, 1, 1, 1, 1, 1, 1, 1, 1, 1, 1, 1, 1, 1, 1, 1, 1, 1, 1, 1, 1, 1, 1, 1, 1, 1, 1, 1, 1, 1, 1, 1, 1, 1, 1, 1, 1, 1, 1, 1, 1, 1, 1, 1, 1, 1, 1, 1, 1, 1, 1, 1, 1, 1, 1, 1, 1, 1, 1, 1, 1, 1, 1, 1, 1, 1, 1, 1, 1, 1, 1, 1, 1, 1, 1, 1, 1, 1, 1, 1, 1, 1, 1, 1, 1, 1, 1, 1, 1, 1, 1, 1, 1, 1, 1, 1, 1, 1, 1, 1, 1, 1, 1, 1, 1, 1, 1, 1, 1, 1, 1, 1, 1, 1, 1, 1, 1, 1, 1, 1, 1, 1, 1, 1, 1, 1, 1, 1, 1, 1, 1, 1, 1, 1, 1, 1, 1, 1, 1, 1, 1, 1, 1, 1, 1, 1, 1, 1, 1, 1, 1, 1, 1, 1, 1, 1, 1, 1, 1, 1, 1, 1, 1, 1, 1, 1, 1, 1, 1, 1, 1, 1, 1, 1, 1, 1, 1, 1, 1, 1, 1, 1, 1, 1, 1, 1, 1, 1, 1, 1, 1, 1, 1, 1, 1, 1, 1, 1, 1, 1, 1, 1, 1, 1, 1, 1, 1, 1, 1, 1, 1, 1, 1, 1, 1, 1, 1, 1, 1, 1, 1, 1, 1, 1, 1, 1, 1, 1, 1, 1, 1, 1, 1, 1, 1, 1, 1, 1, 1, 1, 1, 1, 1, 1, 1, 1, 1, 1, 1, 1, 1, 1, 1, 1, 1, 1, 0]"
       ]
      },
      {
       "output_type": "stream",
       "stream": "stdout",
       "text": [
        "\n"
       ]
      }
     ],
     "prompt_number": 6
    },
    {
     "cell_type": "code",
     "collapsed": false,
     "input": [
      "print \"[\",\n",
      "for i in range(solution_len):\n",
      "    if i < len(solution):\n",
      "        print(\"{}, \".format(solution[i]+1)),\n",
      "    else:\n",
      "        print(\"1, \"),\n",
      "print \"]\""
     ],
     "language": "python",
     "metadata": {},
     "outputs": []
    },
    {
     "cell_type": "code",
     "collapsed": false,
     "input": [
      "m = 500500507\n",
      "print \"solution_len =\", solution_len\n",
      "answer = 1\n",
      "#print(\"{}\".format(answer))\n",
      "for i in range(solution_len):\n",
      "    if i < len(solution):\n",
      "        n = 2**(solution[i] + 1) - 1\n",
      "    else:\n",
      "        n = 1\n",
      "    #print(\"* {}^{}\".format(primes[i], n))\n",
      "    for j in range(n):\n",
      "        answer = (answer * primes[i]) % m\n",
      "print answer"
     ],
     "language": "python",
     "metadata": {},
     "outputs": [
      {
       "output_type": "stream",
       "stream": "stdout",
       "text": [
        "solution_len = 500084\n",
        "35407281"
       ]
      },
      {
       "output_type": "stream",
       "stream": "stdout",
       "text": [
        "\n"
       ]
      }
     ],
     "prompt_number": 7
    },
    {
     "cell_type": "code",
     "collapsed": false,
     "input": [
      "solution"
     ],
     "language": "python",
     "metadata": {},
     "outputs": []
    },
    {
     "cell_type": "code",
     "collapsed": false,
     "input": [
      "2**3 * 3"
     ],
     "language": "python",
     "metadata": {},
     "outputs": []
    },
    {
     "cell_type": "code",
     "collapsed": false,
     "input": [],
     "language": "python",
     "metadata": {},
     "outputs": []
    }
   ],
   "metadata": {}
  }
 ]
}