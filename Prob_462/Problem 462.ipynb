{
 "metadata": {
  "name": ""
 },
 "nbformat": 3,
 "nbformat_minor": 0,
 "worksheets": [
  {
   "cells": [
    {
     "cell_type": "markdown",
     "metadata": {},
     "source": [
      "![Project Euler.net](https://projecteuler.net/images/pe_banner_light.png)\n",
      "\n",
      "https://projecteuler.net/problem=462\n",
      "Problem 462 - Permutation of 3-smooth numbers\n",
      "====\n",
      "\n",
      "A 3-smooth number is an integer which has no prime factor larger than $3$.  For an integer $N$, we define $S(N)$ as the set of 3-smooth numbers less than or equal to $N$.  For example, $S(20) = { 1, 2, 3, 4, 6, 8, 9, 12, 16, 18 }$.\n",
      "\n",
      "We define $F(N)$ as the number of permutations of $S(N)$ in which each element comes after all of its proper divisors.\n",
      "\n",
      "This is one of the possible permutations for $N = 20$.\n",
      "$$- 1, 2, 4, 3, 9, 8, 16, 6, 18, 12.$$\n",
      "This is not a valid permutation because $12$ comes before its divisor $6$.\n",
      "$$- 1, 2, 4, 3, 9, 8, 12, 16, 6, 18.$$\n",
      "\n",
      "We can verify that $F(6) = 5$, $F(8) = 9$, $F(20) = 450$ and $F(1000) \u2248 8.8521816557e21$.\n",
      "\n",
      "Find $F(10^{18})$. Give as your answer its scientific notation rounded to ten digits after the decimal point.\n",
      "\n",
      "When giving your answer, use a lowercase e to separate mantissa and exponent. E.g. if the answer is $112,233,445,566,778,899$ then the answer format would be $1.1223344557e17$.\n"
     ]
    },
    {
     "cell_type": "code",
     "collapsed": false,
     "input": [
      "Target = 10**18\n",
      "\n",
      "n = 1\n",
      "p = 0\n",
      "while (True):\n",
      "    n *= 2\n",
      "    p += 1\n",
      "    #print (\"2^{} = {}\".format(p, n))\n",
      "    if n*2 > Target:\n",
      "        break\n",
      "print(\"Largest power of 2 required is 2^{} = {} which is < {}\".format(p, n, Target))\n",
      "\n",
      "\n",
      "n = 1\n",
      "p = 0\n",
      "while (True):\n",
      "    n *= 3\n",
      "    p += 1\n",
      "    #print (\"3^{} = {}\".format(p, n))\n",
      "    if n*3 > Target:\n",
      "        break\n",
      "print(\"Largest power of 3 required is 3^{} = {} which is < {}\".format(p, n, Target))"
     ],
     "language": "python",
     "metadata": {},
     "outputs": [
      {
       "output_type": "stream",
       "stream": "stdout",
       "text": [
        "Largest power of 2 required is 2^59 = 576460752303423488 which is < 1000000000000000000\n",
        "Largest power of 3 required is 3^37 = 450283905890997363 which is < 1000000000000000000\n"
       ]
      }
     ],
     "prompt_number": 5
    },
    {
     "cell_type": "code",
     "collapsed": false,
     "input": [
      "endpoints = []\n",
      "\n",
      "Target = 1000\n",
      "max_p2 = 0\n",
      "while True:\n",
      "    max_p2 += 1\n",
      "    if (2**(max_p2+1) > Target):\n",
      "        break\n",
      "print \"max_p2 =\", max_p2\n",
      "        \n",
      "for p2 in range(0,max_p2+1):\n",
      "    p3 = 0\n",
      "    while True:\n",
      "        print \"2^{} * 3^{} = {}\".format(p2, p3, 2**p2 * 3**p3)\n",
      "        if (2**p2 * 3**(p3+1)) < Target:\n",
      "            p3 += 1\n",
      "        else:\n",
      "            print \"    Endpoint found\", (p2, p3)\n",
      "            endpoints.append((p2, p3))\n",
      "            break\n"
     ],
     "language": "python",
     "metadata": {},
     "outputs": [
      {
       "output_type": "stream",
       "stream": "stdout",
       "text": [
        "max_p2 = 9\n",
        "2^0 * 3^0 = 1\n",
        "2^0 * 3^1 = 3\n",
        "2^0 * 3^2 = 9\n",
        "2^0 * 3^3 = 27\n",
        "2^0 * 3^4 = 81\n",
        "2^0 * 3^5 = 243\n",
        "2^0 * 3^6 = 729\n",
        "    Endpoint found (0, 6)\n",
        "2^1 * 3^0 = 2\n",
        "2^1 * 3^1 = 6\n",
        "2^1 * 3^2 = 18\n",
        "2^1 * 3^3 = 54\n",
        "2^1 * 3^4 = 162\n",
        "2^1 * 3^5 = 486\n",
        "    Endpoint found (1, 5)\n",
        "2^2 * 3^0 = 4\n",
        "2^2 * 3^1 = 12\n",
        "2^2 * 3^2 = 36\n",
        "2^2 * 3^3 = 108\n",
        "2^2 * 3^4 = 324\n",
        "2^2 * 3^5 = 972\n",
        "    Endpoint found (2, 5)\n",
        "2^3 * 3^0 = 8\n",
        "2^3 * 3^1 = 24\n",
        "2^3 * 3^2 = 72\n",
        "2^3 * 3^3 = 216\n",
        "2^3 * 3^4 = 648\n",
        "    Endpoint found (3, 4)\n",
        "2^4 * 3^0 = 16\n",
        "2^4 * 3^1 = 48\n",
        "2^4 * 3^2 = 144\n",
        "2^4 * 3^3 = 432\n",
        "    Endpoint found (4, 3)\n",
        "2^5 * 3^0 = 32\n",
        "2^5 * 3^1 = 96\n",
        "2^5 * 3^2 = 288\n",
        "2^5 * 3^3 = 864\n",
        "    Endpoint found (5, 3)\n",
        "2^6 * 3^0 = 64\n",
        "2^6 * 3^1 = 192\n",
        "2^6 * 3^2 = 576\n",
        "    Endpoint found (6, 2)\n",
        "2^7 * 3^0 = 128\n",
        "2^7 * 3^1 = 384\n",
        "    Endpoint found (7, 1)\n",
        "2^8 * 3^0 = 256\n",
        "2^8 * 3^1 = 768\n",
        "    Endpoint found (8, 1)\n",
        "2^9 * 3^0 = 512\n",
        "    Endpoint found (9, 0)\n"
       ]
      }
     ],
     "prompt_number": 11
    },
    {
     "cell_type": "code",
     "collapsed": false,
     "input": [
      "endpoints"
     ],
     "language": "python",
     "metadata": {},
     "outputs": [
      {
       "metadata": {},
       "output_type": "pyout",
       "prompt_number": 12,
       "text": [
        "[(0, 6),\n",
        " (1, 5),\n",
        " (2, 5),\n",
        " (3, 4),\n",
        " (4, 3),\n",
        " (5, 3),\n",
        " (6, 2),\n",
        " (7, 1),\n",
        " (8, 1),\n",
        " (9, 0)]"
       ]
      }
     ],
     "prompt_number": 12
    },
    {
     "cell_type": "code",
     "collapsed": false,
     "input": [],
     "language": "python",
     "metadata": {},
     "outputs": []
    }
   ],
   "metadata": {}
  }
 ]
}