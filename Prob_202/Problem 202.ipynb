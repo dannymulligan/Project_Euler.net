{
 "metadata": {
  "name": "",
  "signature": "sha256:0669ff8dcbc071b2d8c3899bbe8797d75784549a6c830deeec50432ea1f87a7d"
 },
 "nbformat": 3,
 "nbformat_minor": 0,
 "worksheets": [
  {
   "cells": [
    {
     "cell_type": "markdown",
     "metadata": {},
     "source": [
      "![Project Euler.net](https://projecteuler.net/images/pe_banner_light.png)\n",
      "\n",
      "https://projecteuler.net/problem=202\n",
      "Problem 202 - Laserbeam\n",
      "====\n",
      "\n",
      "Three mirrors are arranged in the shape of an equilateral triangle, with their reflective surfaces pointing inwards. There is an infinitesimal gap at each vertex of the triangle through which a laser beam may pass.\n",
      "\n",
      "Label the vertices A, B and C. There are 2 ways in which a laser beam may enter vertex C, bounce off 11 surfaces, then exit through the same vertex: one way is shown below; the other is the reverse of that.\n",
      "\n",
      "![](https://projecteuler.net/project/images/p201_laserbeam.gif)\n",
      "\n",
      "There are 80840 ways in which a laser beam may enter vertex C, bounce off $1000001$ surfaces, then exit through the same vertex.\n",
      "\n",
      "In how many ways can a laser beam enter at vertex C, bounce off $12017639147$ surfaces, then exit through the same vertex?\n"
     ]
    },
    {
     "cell_type": "markdown",
     "metadata": {},
     "source": [
      "____\n",
      "$11$ reflections will put us at $y=7$.\n",
      "\n",
      "$13$ reflections will put us at $y=8$.\n",
      "The factors of $8$ are $2^3$.\n",
      "\n",
      "$1000001$ reflections will put us at $y=500002$.\n",
      "The factors of $50002$ are $2$, $53^2$, $89$.\n",
      "\n",
      "$12017639147$ reflections will put us at $y=6008819575$.\n",
      "The factors of $6008819575$ are $5^2$, $11$, $17$, $23, $29$, $41$, $47$.\n",
      "\n",
      "Reflections out of any port after an even number of reflections are not possible."
     ]
    },
    {
     "cell_type": "code",
     "collapsed": false,
     "input": [
      "def y(r):\n",
      "    if ((r % 2) == 0):\n",
      "        raise Exception(\"r can't be even\")\n",
      "    return (r+3)/2\n",
      "\n",
      "y(11)"
     ],
     "language": "python",
     "metadata": {},
     "outputs": [
      {
       "metadata": {},
       "output_type": "pyout",
       "prompt_number": 1,
       "text": [
        "7"
       ]
      }
     ],
     "prompt_number": 1
    },
    {
     "cell_type": "code",
     "collapsed": false,
     "input": [
      "def x(y):\n",
      "    \"\"\"Generate the nodes on line y,\n",
      "    returning the offset and the type of node\"\"\"\n",
      "    if   ((y % 2) == 0):\n",
      "        start = 2  # Skip the 'c' node at x=0, will never pass coprime test\n",
      "        abc = 0    # 'a' node at x=2\n",
      "    else:\n",
      "        start = 1\n",
      "        abc = 1    # 'b' node at x=1\n",
      "    \n",
      "    for i in range(start,y,2):\n",
      "        # Only generate the +x matches\n",
      "        # 'c' nodes are symmetrical so we can\n",
      "        # multiply the result by 2 for correct answer\n",
      "        if (abc == 2):\n",
      "            yield i\n",
      "        #if (abc == 1):\n",
      "        #    yield (i, 'b')\n",
      "        #if (abc == 0):\n",
      "        #    yield (i, 'a')\n",
      "        abc = (abc + 1) % 3\n",
      "        \n",
      "for j in x(y(13)):\n",
      "    print j"
     ],
     "language": "python",
     "metadata": {},
     "outputs": [
      {
       "output_type": "stream",
       "stream": "stdout",
       "text": [
        "6\n"
       ]
      }
     ],
     "prompt_number": 2
    },
    {
     "cell_type": "code",
     "collapsed": false,
     "input": [
      "def is_port(x,y):\n",
      "    if ((y % 2) == 0):\n",
      "        return ((x % 2) == 0)\n",
      "    else:\n",
      "        return ((x % 2) == 1)\n",
      "    \n",
      "is_port(3,4)"
     ],
     "language": "python",
     "metadata": {},
     "outputs": [
      {
       "metadata": {},
       "output_type": "pyout",
       "prompt_number": 3,
       "text": [
        "False"
       ]
      }
     ],
     "prompt_number": 3
    },
    {
     "cell_type": "code",
     "collapsed": false,
     "input": [
      "def factors(n):\n",
      "    if (n ==          7):  return [7]\n",
      "    if (n ==          8):  return [2, 2, 2]\n",
      "    if (n ==         11):  return [11]\n",
      "    if (n ==        502):  return [2, 251]\n",
      "    if (n ==     500002):  return [2, 53, 53, 89]\n",
      "    if (n ==    5000002):  return [2, 7, 19, 18797]\n",
      "    if (n == 6008819575):  return [5, 5, 11, 17, 23, 29, 41, 47]\n",
      "    return []"
     ],
     "language": "python",
     "metadata": {},
     "outputs": [],
     "prompt_number": 4
    },
    {
     "cell_type": "code",
     "collapsed": false,
     "input": [
      "def hcf(n1, n2):\n",
      "    \"\"\"Highest Common Factor\"\"\"\n",
      "    while n1*n2:\n",
      "        if (n1 > n2):\n",
      "            n1 %= n2\n",
      "        else:\n",
      "            n2 %= n1\n",
      "    return max(n1, n2)\n",
      "\n",
      "def coprime(x, y):\n",
      "    return hcf(x, y) == 1"
     ],
     "language": "python",
     "metadata": {},
     "outputs": [],
     "prompt_number": 5
    },
    {
     "cell_type": "code",
     "collapsed": false,
     "input": [
      "import time\n",
      "def reflections(r):\n",
      "    \"\"\"count number of reflections that\n",
      "    reflect r times and exit from 'c'\"\"\"\n",
      "    print(\"----------------\")\n",
      "    print(\"reflections({})\".format(r))\n",
      "    start_time = time.clock()\n",
      "    \n",
      "    ans = 0\n",
      "    yy = y(r)\n",
      "    yy_factors = factors(yy)\n",
      "    prev_ans = 0\n",
      "    print(\"Scanning nodes on line y={}, factors of y = {}\".format(yy, yy_factors))\n",
      "    for xx in x(yy):\n",
      "        if ((ans % 10**6) == 0) & (ans != prev_ans):\n",
      "            prev_ans = ans\n",
      "            elapsed = time.clock() - start_time\n",
      "            print(\"    xx = {}, ans = {}, time = {:.1f} seconds,\".format(xx, ans, elapsed)),\n",
      "            print(\"{:4.1f}% complete, {:.1f} seconds to completion\".format(100.0*xx/yy, elapsed*yy/xx-elapsed))\n",
      "        #print xx, yy\n",
      "        hh = hcf(xx, yy)\n",
      "        if (hh == 1):\n",
      "            ans += 1\n",
      "            #print xx, yy, hh\n",
      "        else:\n",
      "            xxx, yyy = xx/hh, yy/hh\n",
      "            if is_port(xxx,yyy):\n",
      "                #print xx, yy, hh, \"Rejected #1\"\n",
      "                continue\n",
      "            elif is_port(xxx*2,yyy*2) & (hh != 2):\n",
      "                #print xx, yy, hh, \"Rejected #2\"\n",
      "                continue\n",
      "            else:\n",
      "                ans += 1\n",
      "                #print xx, yy, hh, \"Almost rejected\"\n",
      "            \n",
      "    print \"reflections({}) = {} Time = {:.1f} seconds\".format(r, ans*2, time.clock() - start_time)\n",
      "    return ans*2\n",
      "\n",
      "\n",
      "reflections(11)\n",
      "reflections(13)\n",
      "reflections(1001)    # 0.0 seconds\n",
      "reflections(1000001)  # 0.4 seconds\n",
      "reflections(10000001)  # 3.5 seconds\n",
      "reflections(100000001)  # 37 seconds\n",
      "reflections(12017639147)  # Anticipated ~50 mins"
     ],
     "language": "python",
     "metadata": {},
     "outputs": [
      {
       "output_type": "stream",
       "stream": "stdout",
       "text": [
        "----------------\n",
        "reflections(11)\n",
        "Scanning nodes on line y=7, factors of y = [7]\n",
        "reflections(11) = 2 Time = 0.0 seconds\n",
        "----------------\n",
        "reflections(13)\n",
        "Scanning nodes on line y=8, factors of y = [2, 2, 2]\n",
        "reflections(13) = 2 Time = 0.0 seconds\n",
        "----------------\n",
        "reflections(1001)\n",
        "Scanning nodes on line y=502, factors of y = [2, 251]\n",
        "reflections(1001) = 82 Time = 0.0 seconds\n",
        "----------------\n",
        "reflections(1000001)\n",
        "Scanning nodes on line y=500002, factors of y = [2, 53, 53, 89]\n",
        "reflections(1000001) = 80840 Time = 0.4 seconds"
       ]
      },
      {
       "output_type": "stream",
       "stream": "stdout",
       "text": [
        "\n",
        "----------------\n",
        "reflections(10000001)\n",
        "Scanning nodes on line y=5000002, factors of y = [2, 7, 19, 18797]\n",
        "reflections(10000001) = 676656 Time = 3.4 seconds"
       ]
      },
      {
       "output_type": "stream",
       "stream": "stdout",
       "text": [
        "\n",
        "----------------\n",
        "reflections(100000001)\n",
        "Scanning nodes on line y=50000002, factors of y = []\n",
        "    xx = 13466946, ans = 1000000, time = 9.6 seconds,"
       ]
      },
      {
       "output_type": "stream",
       "stream": "stdout",
       "text": [
        " 26.9% complete, 26.2 seconds to completion\n",
        "    xx = 26933862, ans = 2000000, time = 19.2 seconds,"
       ]
      },
      {
       "output_type": "stream",
       "stream": "stdout",
       "text": [
        " 53.9% complete, 16.4 seconds to completion\n",
        "    xx = 40400790, ans = 3000000, time = 29.0 seconds,"
       ]
      },
      {
       "output_type": "stream",
       "stream": "stdout",
       "text": [
        " 80.8% complete, 6.9 seconds to completion\n",
        "reflections(100000001) = 7425600 Time = 35.8 seconds"
       ]
      }
     ]
    },
    {
     "cell_type": "code",
     "collapsed": false,
     "input": [],
     "language": "python",
     "metadata": {},
     "outputs": [],
     "prompt_number": 9
    },
    {
     "cell_type": "code",
     "collapsed": false,
     "input": [],
     "language": "python",
     "metadata": {},
     "outputs": [],
     "prompt_number": 53
    },
    {
     "cell_type": "code",
     "collapsed": false,
     "input": [],
     "language": "python",
     "metadata": {},
     "outputs": []
    }
   ],
   "metadata": {}
  }
 ]
}