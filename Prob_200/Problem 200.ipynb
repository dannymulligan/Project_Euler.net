{
 "metadata": {
  "name": "",
  "signature": "sha256:6dc82b56bfaba3c6ab16c32d44c13dbc35162947e9f89d958ed497a0eedf5ba9"
 },
 "nbformat": 3,
 "nbformat_minor": 0,
 "worksheets": [
  {
   "cells": [
    {
     "cell_type": "markdown",
     "metadata": {},
     "source": [
      "![Project Euler.net](https://projecteuler.net/images/pe_banner_light.png)\n",
      "\n",
      "https://projecteuler.net/problem=200\n",
      "Problem 200 - Find the 200th prime-proof sqube containing the contiguous sub-string \"200\"\n",
      "====\n",
      "\n",
      "We shall define a sqube to be a number of the form, $p^2q^3$, where $p$ and $q$ are distinct primes.\n",
      "\n",
      "For example, $200 = 5^22^3$ or $120072949 = 23^261^3$.\n",
      "\n",
      "The first five squbes are $72$, $108$, $200$, $392$, and $500$.\n",
      "\n",
      "Interestingly, $200$ is also the first number for which you cannot change any single digit to make a prime; we shall call such numbers, prime-proof. The next prime-proof sqube which contains the contiguous sub-string \"200\" is $2^3499^2 = 1992008$.\n",
      "\n",
      "Find the $200th$ prime-proof sqube containing the contiguous sub-string \"200\".\n"
     ]
    },
    {
     "cell_type": "markdown",
     "metadata": {},
     "source": [
      "____\n"
     ]
    },
    {
     "cell_type": "code",
     "collapsed": false,
     "input": [
      "import time\n",
      "\n",
      "LIMIT_PRIME = 10**6\n",
      "prime_table = [1]*LIMIT_PRIME  # table of largest factor\n",
      "prime_max = 0\n",
      "primes = []\n",
      "\n",
      "############################################################\n",
      "def calculate_primes(limit=LIMIT_PRIME):\n",
      "    start_time = time.clock()\n",
      "    if (limit>len(prime_table)):\n",
      "        raise Exception(\"prime_table is too small ({} entries, need at least {})\".format(len(prime_table), limit))\n",
      "\n",
      "    # Optimization to allow us to increment i by 2 for the rest of the algoritm\n",
      "    i = 2\n",
      "    prime_table[i] = i\n",
      "    primes.append(i)\n",
      "    j = i**2\n",
      "    while (j < limit):\n",
      "        prime_table[j] = i\n",
      "        j += i\n",
      "\n",
      "    i = 3\n",
      "    while (i < (limit/2)):\n",
      "        if (prime_table[i] == 1):\n",
      "            primes.append(i)\n",
      "            j = i**2\n",
      "            while (j < limit):\n",
      "                prime_table[j] = i\n",
      "                j += i\n",
      "        i += 2\n",
      "    while (i < limit):\n",
      "        if (prime_table[i] == 1):\n",
      "            primes.append(i)\n",
      "        i += 2\n",
      "    prime_max = limit\n",
      "    print(\"There are {} primes less than {}, calculated in {} seconds\".format(len(primes), limit, (time.clock() - start_time)))\n",
      "\n",
      "calculate_primes()"
     ],
     "language": "python",
     "metadata": {},
     "outputs": []
    },
    {
     "cell_type": "code",
     "collapsed": false,
     "input": [
      "############################################################\n",
      "def exp_by_sq(x,y,z):\n",
      "    # return (x**y % z)\n",
      "    if (y == 1):\n",
      "        # y is 1\n",
      "        ans = x\n",
      "    elif ((y % 2) == 0):\n",
      "        # y is even\n",
      "        ans = exp_by_sq(x,y/2,z)\n",
      "        ans = (ans * ans) % z\n",
      "    else:\n",
      "        # l is odd\n",
      "        ans = exp_by_sq(x,(y-1)/2,z)\n",
      "        ans = (ans * ans) % z\n",
      "        ans = (x * ans) % z\n",
      "    return ans\n",
      "\n",
      "\n",
      "############################################################\n",
      "import random\n",
      "def miller_rabin_primality_test(n,s,d,k):\n",
      "    # True  = n might be prime\n",
      "    # False = n not prime\n",
      "    #\n",
      "    # http://en.wikipedia.org/wiki/Miller%E2%80%93Rabin_primality_test\n",
      "    for kk in xrange(k):\n",
      "        a = random.randint(2,n-2)\n",
      "        x = exp_by_sq(a,d,n)\n",
      "        if ((x == 1) or (x == n-1)):\n",
      "            continue\n",
      "        for r in xrange(1,s):\n",
      "            x = ((x*x) % n)\n",
      "            if (x == 1):  return False\n",
      "            if (x == n-1):  break\n",
      "        if (x != n-1):  return False\n",
      "    return True\n",
      "\n",
      "\n",
      "############################################################\n",
      "def is_prime(n):\n",
      "    if (((n % 2) == 0) or\n",
      "        ((n % 3) == 0) or\n",
      "        ((n % 5) == 0)):\n",
      "        #print(\"is_prime({}) = False (divisible by 2, 3, or 5)\".format(n, False))\n",
      "        return False\n",
      "    if (n < prime_max):\n",
      "        #print(\"is_prime({}) = {} (lookup in prime_table)\".format(n, (prime_table[n] == 1)))\n",
      "        return (prime_table[n] == 1)\n",
      "    s = 0\n",
      "    d = n - 1\n",
      "    while ((d % 2) == 0):\n",
      "        d /= 2\n",
      "        s += 1\n",
      "    # n-1 = (2**s)*d\n",
      "    ans = miller_rabin_primality_test(n,s,d,4)\n",
      "    #print(\"is_prime({}) = {} (miller_rabin_primality_test)\".format(n, ans))\n",
      "    return ans"
     ],
     "language": "python",
     "metadata": {},
     "outputs": []
    },
    {
     "cell_type": "code",
     "collapsed": false,
     "input": [
      "def sqube(a, b):\n",
      "    return ((a**2) * (b**3))"
     ],
     "language": "python",
     "metadata": {},
     "outputs": []
    },
    {
     "cell_type": "code",
     "collapsed": false,
     "input": [
      "def contains_200(s):\n",
      "    ss = \"{}\".format(s)\n",
      "    return not(ss.find(\"200\") == -1)"
     ],
     "language": "python",
     "metadata": {},
     "outputs": []
    },
    {
     "cell_type": "code",
     "collapsed": false,
     "input": [
      "def vary_digits(s, n):\n",
      "    \"\"\"Vary the nth digit of s to all other possible values\"\"\"\n",
      "    sdn = (s/10**n) % 10  # N'th digit of s\n",
      "    #print \"sdn =\", sdn, \"10**n =\", 10**n, \"(s/10**n) =\", s/10**n\n",
      "    for i in range(10):\n",
      "        if (i == sdn):\n",
      "            continue\n",
      "        yield s - sdn*10**n + i*10**n"
     ],
     "language": "python",
     "metadata": {},
     "outputs": []
    },
    {
     "cell_type": "code",
     "collapsed": false,
     "input": [
      "def num_digits(n):\n",
      "    \"\"\"Count the number of digits in n\"\"\"\n",
      "    ans = 0\n",
      "    while (n > 0):\n",
      "        n = n/10\n",
      "        ans += 1\n",
      "    return ans\n",
      "\n",
      "#num_digits(12345678)"
     ],
     "language": "python",
     "metadata": {},
     "outputs": []
    },
    {
     "cell_type": "code",
     "collapsed": false,
     "input": [
      "def prime_proof(s):\n",
      "    sd0 = s % 10\n",
      "    if ((sd0 == 0) or (sd0 == 2) or\n",
      "        (sd0 == 4) or (sd0 == 5) or\n",
      "        (sd0 == 6) or (sd0 == 8)):\n",
      "        # We only need to check varying the last digit\n",
      "        for n in vary_digits(s,0):\n",
      "            if is_prime(n):\n",
      "                return False\n",
      "        return True\n",
      "    else:\n",
      "        # We need to check varying every digit\n",
      "        for d in range(num_digits(s)):\n",
      "            for n in vary_digits(s,d):\n",
      "                if is_prime(n):\n",
      "                    return False\n",
      "        return True\n",
      "\n",
      "#prime_proof(1992008)"
     ],
     "language": "python",
     "metadata": {},
     "outputs": []
    },
    {
     "cell_type": "code",
     "collapsed": false,
     "input": [
      "solutions = list()\n",
      "LIMIT = 10**13\n",
      "for y in range(1, len(primes[:16000])):\n",
      "    for x in range(y):\n",
      "        py = primes[y]\n",
      "        px = primes[x]\n",
      "        \n",
      "        #print(\"x={x} y={y} px={px} py={py}\".format(x=x, y=y, px=px, py=py))\n",
      "        s = sqube(px, py)\n",
      "        if (s < LIMIT):\n",
      "            #print(\"{a}^2 * {b}^3 = {s} <\".format(a=px, b=py, s=s))\n",
      "            if contains_200(s):\n",
      "                #print(\"    contains_200 {a}^2 * {b}^3 = {s}\".format(a=px, b=py, s=s))\n",
      "                if (contains_200(s) & prime_proof(s)):\n",
      "                    solutions.append((s, '<<< {a}^2 * {b}^2'.format(a=px, b=py)))\n",
      "                    print(\"    prime_proof < {a}^2 * {b}^3 = {s} ({n})\".format(a=px, b=py, s=s, n=len(solutions)))\n",
      "                \n",
      "        px, py = py, px \n",
      "        s = sqube(px, py)\n",
      "        if (s < LIMIT):\n",
      "            #print(\"{a}^2 * {b}^3 = {s} >\".format(a=px, b=py, s=s))\n",
      "            if contains_200(s):\n",
      "                #print(\"    contains_200 {a}^2 * {b}^3 = {s}\".format(a=px, b=py, s=s))\n",
      "                if (contains_200(s) & prime_proof(s)):\n",
      "                    solutions.append((s, '> {a}^2 * {b}^2'.format(a=px, b=py)))\n",
      "                    print(\"    prime_proof > {a}^2 * {b}^3 = {s} ({n})\".format(a=px, b=py, s=s, n=len(solutions)))\n",
      "\n",
      "solutions.sort()\n",
      "print \"Found\", len(solutions), \"solutions\"\n",
      "if (len(solutions) >= 200):\n",
      "    print \"Answer is\", solutions[199]"
     ],
     "language": "python",
     "metadata": {},
     "outputs": []
    },
    {
     "cell_type": "code",
     "collapsed": false,
     "input": [
      "solutions.sort()\n",
      "print \"Found\", len(solutions), \"solutions\"\n",
      "if (len(solutions) >= 200):\n",
      "    print \"Answer is\", solutions[199][0]"
     ],
     "language": "python",
     "metadata": {},
     "outputs": []
    },
    {
     "cell_type": "code",
     "collapsed": false,
     "input": [
      "solutions"
     ],
     "language": "python",
     "metadata": {},
     "outputs": []
    },
    {
     "cell_type": "code",
     "collapsed": false,
     "input": [
      "primes[16000]"
     ],
     "language": "python",
     "metadata": {},
     "outputs": []
    },
    {
     "cell_type": "code",
     "collapsed": false,
     "input": [
      "num_digits(1786555200125)"
     ],
     "language": "python",
     "metadata": {},
     "outputs": []
    },
    {
     "cell_type": "code",
     "collapsed": false,
     "input": [
      "num_digits(948411074520025)"
     ],
     "language": "python",
     "metadata": {},
     "outputs": []
    },
    {
     "cell_type": "code",
     "collapsed": false,
     "input": [],
     "language": "python",
     "metadata": {},
     "outputs": []
    }
   ],
   "metadata": {}
  }
 ]
}