{
 "metadata": {
  "name": ""
 },
 "nbformat": 3,
 "nbformat_minor": 0,
 "worksheets": [
  {
   "cells": [
    {
     "cell_type": "markdown",
     "metadata": {},
     "source": [
      "![Project Euler.net](https://projecteuler.net/images/pe_banner_light.png)\n",
      "\n",
      "https://projecteuler.net/problem=106\n",
      "Problem 106 - Special subset sums: meta-testing\n",
      "====\n",
      "\n",
      "Let $S(A)$ represent the sum of elements in set $A$ of size $n$. We shall call it a special sum set if for any two non-empty disjoint subsets, $B$ and $C$, the following properties are true:\n",
      "\n",
      "- $S(B) \u2260 S(C)$; that is, sums of subsets cannot be equal.\n",
      "- If $B$ contains more elements than $C$ then $S(B) > S(C)$.\n",
      "\n",
      "For this problem we shall assume that a given set contains $n$ strictly increasing elements and it already satisfies the second rule.\n",
      "\n",
      "Surprisingly, out of the $25$ possible subset pairs that can be obtained from a set for which $n = 4$, only 1 of these pairs need to be tested for equality (first rule). Similarly, when $n = 7$, only $70$ out of the $966$ subset pairs need to be tested.\n",
      "\n",
      "For $n = 12$, how many of the $261625$ subset pairs that can be obtained need to be tested for equality?\n",
      "\n",
      "NOTE: This problem is related to problems 103 and 105."
     ]
    },
    {
     "cell_type": "code",
     "collapsed": false,
     "input": [],
     "language": "python",
     "metadata": {},
     "outputs": []
    }
   ],
   "metadata": {}
  }
 ]
}