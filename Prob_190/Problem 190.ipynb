{
 "metadata": {
  "name": "",
  "signature": "sha256:5ca49e247ee1da0f573cf61adcf576a5edfb9a773fc0d758446e41fd64e0f80a"
 },
 "nbformat": 3,
 "nbformat_minor": 0,
 "worksheets": [
  {
   "cells": [
    {
     "cell_type": "markdown",
     "metadata": {},
     "source": [
      "![Project Euler.net](https://projecteuler.net/images/pe_banner_light.png)\n",
      "\n",
      "https://projecteuler.net/problem=190\n",
      "Problem 190 - Maximising a weighted product\n",
      "====\n",
      "\n",
      "Let $S_m = (x_1, x_2, ... , x_m)$ be the m-tuple of positive real numbers with $x_1 + x_2 + ... + x_m = m$ for which $P_m = x_1 * x_2^2 * ... * x_m^m$ is maximised.\n",
      "\n",
      "For example, it can be verified that $[P_{10}] = 4112$ ([ ] is the integer part function).\n",
      "\n",
      "Find $\u03a3[P_m]$ for $2 \u2264 m \u2264 15$.\n"
     ]
    },
    {
     "cell_type": "code",
     "collapsed": false,
     "input": [
      "# We're going to need binomial coefficients, so let's calculate them first\n",
      "binom_coeff = list()\n",
      "binom_coeff.append([1])        # 0\n",
      "\n",
      "for i in range(1,15):\n",
      "    next_line = [1]\n",
      "    for j in range(len(binom_coeff[i-1])-1):\n",
      "        next_line.append(binom_coeff[i-1][j] + binom_coeff[i-1][j+1])\n",
      "    next_line.append(1)\n",
      "    binom_coeff.append(next_line)\n",
      "\n",
      "binom_coeff"
     ],
     "language": "python",
     "metadata": {},
     "outputs": [
      {
       "metadata": {},
       "output_type": "pyout",
       "prompt_number": 1,
       "text": [
        "[[1],\n",
        " [1, 1],\n",
        " [1, 2, 1],\n",
        " [1, 3, 3, 1],\n",
        " [1, 4, 6, 4, 1],\n",
        " [1, 5, 10, 10, 5, 1],\n",
        " [1, 6, 15, 20, 15, 6, 1],\n",
        " [1, 7, 21, 35, 35, 21, 7, 1],\n",
        " [1, 8, 28, 56, 70, 56, 28, 8, 1],\n",
        " [1, 9, 36, 84, 126, 126, 84, 36, 9, 1],\n",
        " [1, 10, 45, 120, 210, 252, 210, 120, 45, 10, 1],\n",
        " [1, 11, 55, 165, 330, 462, 462, 330, 165, 55, 11, 1],\n",
        " [1, 12, 66, 220, 495, 792, 924, 792, 495, 220, 66, 12, 1],\n",
        " [1, 13, 78, 286, 715, 1287, 1716, 1716, 1287, 715, 286, 78, 13, 1],\n",
        " [1, 14, 91, 364, 1001, 2002, 3003, 3432, 3003, 2002, 1001, 364, 91, 14, 1]]"
       ]
      }
     ],
     "prompt_number": 1
    },
    {
     "cell_type": "code",
     "collapsed": false,
     "input": [
      "def str_poly(coeff):\n",
      "    \"\"\"Generate the string representation of a polynomial\n",
      "    defined by coefficients in a list\"\"\"\n",
      "    result = \"\"\n",
      "    for n, x in enumerate(coeff):\n",
      "        if (n > 0):\n",
      "            result += \" + \"\n",
      "        result += str(x)\n",
      "        if (n > 0):\n",
      "            result += \"x^{}\".format(n)\n",
      "    return result\n",
      "\n",
      "str_poly([1.0, 2., 1.1])"
     ],
     "language": "python",
     "metadata": {},
     "outputs": [
      {
       "metadata": {},
       "output_type": "pyout",
       "prompt_number": 2,
       "text": [
        "'1.0 + 2.0x^1 + 1.1x^2'"
       ]
      }
     ],
     "prompt_number": 2
    },
    {
     "cell_type": "code",
     "collapsed": false,
     "input": [
      "def mult_poly(poly_a, poly_b):\n",
      "    \"\"\"Multiply two polynomials representated by\n",
      "    coefficients in two lists\"\"\"\n",
      "    result = list()\n",
      "    poly_a_order = len(poly_a) - 1\n",
      "    poly_b_order = len(poly_b) - 1\n",
      "    result_order = poly_a_order + poly_b_order\n",
      "    for i in range(result_order + 1):\n",
      "        this_term = 0.0\n",
      "        #print(\"this_term[{i}] = 0.0\".format(i=i))\n",
      "        for j in range(poly_a_order+1):\n",
      "            k = i - j\n",
      "            if (j > i):\n",
      "                break\n",
      "            if (k > poly_b_order):\n",
      "                continue\n",
      "            if (k < 0):\n",
      "                break\n",
      "            #print(\"            += poly_a[{j}] * poly_b[{k}]\".format(j=j, k=k))\n",
      "            #print(\"            += {aa} * {bb}\".format(aa=poly_a[j], bb=poly_b[k]))\n",
      "            this_term += poly_a[j] * poly_b[k]\n",
      "        result.append(this_term)\n",
      "    return result\n",
      "        \n",
      "str_poly(mult_poly([1.0, 2.0, 3.0], [4.0, 5.0, 6.0]))"
     ],
     "language": "python",
     "metadata": {},
     "outputs": [
      {
       "metadata": {},
       "output_type": "pyout",
       "prompt_number": 3,
       "text": [
        "'4.0 + 13.0x^1 + 28.0x^2 + 27.0x^3 + 18.0x^4'"
       ]
      }
     ],
     "prompt_number": 3
    },
    {
     "cell_type": "code",
     "collapsed": false,
     "input": [
      "def eval_poly(poly, x):\n",
      "    \"\"\"Evaluate the polynomial represented by coefficients\n",
      "    in a list at the value x\"\"\"\n",
      "    result = 0.0\n",
      "    for n,c in enumerate(poly):\n",
      "        #print(\"result += {} * {}^{} = {} * {} = {}\".format(c, x, n, c, x**n, c*x**n))\n",
      "        result += c * x**(n)\n",
      "    return result\n",
      "\n",
      "eval_poly([1, 2, 3], 2.0)"
     ],
     "language": "python",
     "metadata": {},
     "outputs": [
      {
       "metadata": {},
       "output_type": "pyout",
       "prompt_number": 4,
       "text": [
        "17.0"
       ]
      }
     ],
     "prompt_number": 4
    },
    {
     "cell_type": "code",
     "collapsed": false,
     "input": [
      "def diff_poly(poly):\n",
      "    \"\"\"Calculate the differential of a polynomial represented\n",
      "    by coefficients in a list\"\"\"\n",
      "    result = list()\n",
      "    for n,c in enumerage(poly):\n",
      "        if (n > 0):\n",
      "            result.append(n*c)\n",
      "    return result"
     ],
     "language": "python",
     "metadata": {},
     "outputs": [],
     "prompt_number": 74
    },
    {
     "cell_type": "code",
     "collapsed": false,
     "input": [
      "def newton(poly, guess):\n",
      "    \"\"\"Use the Newton-Raphson algorithm to find a zero of the\n",
      "    polynomial equation represented by the coefficients in a\n",
      "    list, using an initial guess\"\"\"\n",
      "    # Calculate the differential d(poly)/dx\n",
      "    d_poly = diff_poly(poly)\n",
      "    print(\"d_poly = {}\".format(str_poly(d_poly)))\n",
      "    \n",
      "    # Calculate the 2nd differential d^2(poly)/dx^2\n",
      "    dd_poly = diff_poly(d_poly)\n",
      "    print(\"dd_poly = {}\".format(str_poly(dd_poly)))\n",
      "\n",
      "    # Calculate the value of the equation using x=guess\n",
      "    \n",
      "    # Calculate the next guess using d(poly)/dx\n",
      "    \n",
      "    # Iterate until we've got as close to a zero in d_poly as possible\n",
      "    \n",
      "    # Check if this is a maximum or minimum in poly by evaluating dd_poly\n",
      "    \n",
      "    # If this is a maximum, return the calculated solution\n",
      "    \n",
      "    # If this is a minimum, divide out (x - root) from poly, and recurse\n",
      "    \n",
      "    return 0.0\n",
      "    "
     ],
     "language": "python",
     "metadata": {},
     "outputs": [],
     "prompt_number": 75
    },
    {
     "cell_type": "code",
     "collapsed": false,
     "input": [
      "def maximize(xa, a, xb, b):\n",
      "    \"\"\"Find the d that maximizes (xa+d)^a * (xb-d)^b\"\"\"\n",
      "    # Generate the polynomial for (xa+d)^a\n",
      "    a_poly = list()\n",
      "    for i in range(a+1):\n",
      "        #print \"{} * {} * d^{}\".format(binom_coeff[a][i], xa**(a-i), i)\n",
      "        a_poly.append(binom_coeff[a][i]*xa**(a-i))\n",
      "    print(\"a_poly = {}\".format(str_poly(a_poly)))\n",
      "\n",
      "    # Generate the polynomial for (xb-d)^b\n",
      "    b_poly = list()\n",
      "    for i in range(b+1):\n",
      "        #print \"{} * {} * d^{}\".format(((-1)**i)*binom_coeff[b][i], xb**(b-i), i)\n",
      "        b_poly.append(((-1)**i)*binom_coeff[b][i]*xb**(b-i))\n",
      "    print(\"b_poly = {}\".format(str_poly(b_poly)))\n",
      "\n",
      "    # Multiply the two polynomials by each other\n",
      "    c_poly = mult_poly(a_poly, b_poly)\n",
      "    print(\"c_poly = {}\".format(str_poly(c_poly)))\n",
      "    \n",
      "maximize(1.0, 2, 1.0, 3)"
     ],
     "language": "python",
     "metadata": {},
     "outputs": [
      {
       "output_type": "stream",
       "stream": "stdout",
       "text": [
        "a_poly = 1.0 + 2.0x^1 + 1.0x^2\n",
        "b_poly = 1.0 + -3.0x^1 + 3.0x^2 + -1.0x^3\n",
        "c_poly = 1.0 + -1.0x^1 + -2.0x^2 + 2.0x^3 + 1.0x^4 + -1.0x^5\n"
       ]
      }
     ],
     "prompt_number": 5
    },
    {
     "cell_type": "code",
     "collapsed": false,
     "input": [
      "def eval_product(coeff):\n",
      "    \"\"\"Evaluates the weighted product for the coefficients\n",
      "    in a list\"\"\"\n",
      "    if (sum(coeff) != 3.0):\n",
      "        print(\"sum of coeff =\", sum(coeff))\n",
      "    else:\n",
      "        result = 1.0\n",
      "        for n,c in enumerate(coeff):\n",
      "            result *= c**(n+1)\n",
      "        print coeff, result\n",
      "        return result\n",
      "\n",
      "a = eval_product([0.666666, 0.900000, 1.433334])\n",
      "b = eval_product([0.666666, 1.000000, 1.333334])\n",
      "c = eval_product([0.666666, 1.343334, 0.990000])\n",
      "if (a > b) & (a > c):\n",
      "    print (\"A is biggest\")\n",
      "elif (b > a) & (b > c):\n",
      "    print (\"B is biggest\")\n",
      "elif (c > a) & (c > b):\n",
      "    print (\"C is biggest\")"
     ],
     "language": "python",
     "metadata": {},
     "outputs": [
      {
       "output_type": "stream",
       "stream": "stdout",
       "text": [
        "[0.666666, 0.9, 1.433334] 1.59014062866\n",
        "[0.666666, 1.0, 1.333334] 1.5802477037\n",
        "[0.666666, 1.343334, 0.99] 1.16729843791\n",
        "A is biggest\n"
       ]
      }
     ],
     "prompt_number": 73
    },
    {
     "cell_type": "code",
     "collapsed": false,
     "input": [],
     "language": "python",
     "metadata": {},
     "outputs": [],
     "prompt_number": 8
    },
    {
     "cell_type": "code",
     "collapsed": false,
     "input": [],
     "language": "python",
     "metadata": {},
     "outputs": []
    }
   ],
   "metadata": {}
  }
 ]
}