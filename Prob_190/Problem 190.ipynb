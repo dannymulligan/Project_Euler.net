{
 "metadata": {
  "name": ""
 },
 "nbformat": 3,
 "nbformat_minor": 0,
 "worksheets": [
  {
   "cells": [
    {
     "cell_type": "markdown",
     "metadata": {},
     "source": [
      "![Project Euler.net](https://projecteuler.net/images/pe_banner_light.png)\n",
      "\n",
      "https://projecteuler.net/problem=190\n",
      "Problem 190 - Maximising a weighted product\n",
      "====\n",
      "\n",
      "Let $S_m = (x_1, x_2, ... , x_m)$ be the m-tuple of positive real numbers with $x_1 + x_2 + ... + x_m = m$ for which $P_m = x_1 * x_2^2 * ... * x_m^m$ is maximised.\n",
      "\n",
      "For example, it can be verified that $[P_{10}] = 4112$ ([ ] is the integer part function).\n",
      "\n",
      "Find $\u03a3[P_m]$ for $2 \u2264 m \u2264 15$.\n"
     ]
    },
    {
     "cell_type": "code",
     "collapsed": false,
     "input": [
      "# Let's calculate P2\n",
      "m = 2\n",
      "def P2(x1,x2):\n",
      "    return x1 * (m - x1)**2\n",
      "\n",
      "def dP2_dx1(x1,x2):\n",
      "    x2 = m "
     ],
     "language": "python",
     "metadata": {},
     "outputs": []
    }
   ],
   "metadata": {}
  }
 ]
}