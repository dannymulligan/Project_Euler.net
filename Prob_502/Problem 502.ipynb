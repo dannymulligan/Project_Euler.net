{
 "metadata": {
  "name": "",
  "signature": "sha256:03ebc50998e6e77d2ee93bfffea6ca29830d511765109fc1e0279a2044abeb20"
 },
 "nbformat": 3,
 "nbformat_minor": 0,
 "worksheets": [
  {
   "cells": [
    {
     "cell_type": "markdown",
     "metadata": {},
     "source": [
      "![Project Euler.net](https://projecteuler.net/themes/default/pe_logo_default.png)\n",
      "\n",
      "https://projecteuler.net/problem=502\n",
      "Problem 502 - Counting Castles\n",
      "====\n",
      "\n",
      "We define a block to be a rectangle with a height of 1 and an integer-valued length. Let a castle be a configuration of stacked blocks.\n",
      "\n",
      "Given a game grid that is w units wide and h units tall, a castle is generated according to the following rules:\n",
      "\n",
      "1. Blocks can be placed on top of other blocks as long as nothing sticks out past the edges or hangs out over open space.\n",
      "2. All blocks are aligned/snapped to the grid.\n",
      "3. Any two neighboring blocks on the same row have at least one unit of space between them.\n",
      "4. The bottom row is occupied by a block of length w.\n",
      "5. The maximum achieved height of the entire castle is exactly h.\n",
      "6. The castle is made from an even number of blocks.\n",
      "\n",
      "The following is a sample castle for w=8 and h=5:\n",
      "\n",
      "![](https://projecteuler.net/project/images/p502_castles.png)\n",
      "\n",
      "Let $F(w,h)$ represent the number of valid castles, given grid parameters $w$ and $h$.\n",
      "\n",
      "For example:\n",
      "\n",
      "$F(4,2) = 10$\n",
      "\n",
      "$F(13,10) = 3729050610636$\n",
      "\n",
      "$F(10,13) = 37959702514$\n",
      "\n",
      "$F(100,100) mod 1 000 000 007 = 841913936$\n",
      "\n",
      "Find $F(1012,100) + F(10000,10000) + F(100,1012) mod 1 000 000 007$."
     ]
    },
    {
     "cell_type": "markdown",
     "metadata": {},
     "source": [
      "____\n",
      "\n"
     ]
    },
    {
     "cell_type": "code",
     "collapsed": false,
     "input": [
      "import time\n",
      "\n",
      "LIMIT_PRIME = 10**6\n",
      "prime_table = [1]*LIMIT_PRIME  # table of largest factor\n",
      "primes = []\n",
      "\n",
      "############################################################\n",
      "def calculate_primes(limit=LIMIT_PRIME):\n",
      "    start_time = time.clock()\n",
      "    if (limit>len(prime_table)):\n",
      "        raise Exception(\"prime_table is too small ({} entries, need at least {})\".format(len(prime_table), limit))\n",
      "\n",
      "    # Optimization to allow us to increment i by 2 for the rest of the algoritm\n",
      "    i = 2\n",
      "    prime_table[i] = i\n",
      "    primes.append(i)\n",
      "    j = i**2\n",
      "    while (j < limit):\n",
      "        prime_table[j] = i\n",
      "        j += i\n",
      "\n",
      "    i = 3\n",
      "    while (i < (limit/2)):\n",
      "        if (prime_table[i] == 1):\n",
      "            primes.append(i)\n",
      "            j = i**2\n",
      "            while (j < limit):\n",
      "                prime_table[j] = i\n",
      "                j += i\n",
      "        i += 2\n",
      "    while (i < limit):\n",
      "        if (prime_table[i] == 1):\n",
      "            primes.append(i)\n",
      "        i += 2\n",
      "    print(\"There are {} primes less than {}, calculated in {} seconds\".format(len(primes), limit, (time.clock() - start_time)))\n",
      "\n",
      "calculate_primes(limit = 10**6)"
     ],
     "language": "python",
     "metadata": {},
     "outputs": []
    },
    {
     "cell_type": "code",
     "collapsed": false,
     "input": [],
     "language": "python",
     "metadata": {},
     "outputs": []
    }
   ],
   "metadata": {}
  }
 ]
}