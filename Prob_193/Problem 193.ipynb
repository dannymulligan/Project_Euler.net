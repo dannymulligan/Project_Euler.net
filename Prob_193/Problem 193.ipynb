{
 "metadata": {
  "name": "",
  "signature": "sha256:621b33572334856ea84d590e0b7280c073a5b0af7be11f1fa888514781e4c8d9"
 },
 "nbformat": 3,
 "nbformat_minor": 0,
 "worksheets": [
  {
   "cells": [
    {
     "cell_type": "markdown",
     "metadata": {},
     "source": [
      "<img src=\"https://projecteuler.net/themes/default/pe_logo_default.png\" alt=\"Project Euler\" align=\"left\"> \n",
      "<br>\n",
      "\n",
      "# [Problem 193 - Squarefree Numbers.](https://projecteuler.net/problem=193)\n",
      "\n",
      "A positive integer n is called squarefree, if no square of a prime divides n, thus 1, 2, 3, 5, 6, 7, 10, 11 are squarefree, but not 4, 8, 9, 12.\n",
      "\n",
      "How many squarefree numbers are there below $2^{50}$?\n"
     ]
    },
    {
     "cell_type": "code",
     "collapsed": false,
     "input": [
      "LIMIT_PRIME = 2**25\n",
      "prime_table = [1]*LIMIT_PRIME  # table of largest factor\n",
      "primes = []\n",
      "#prime_table = [1,2]*(LIMIT_PRIME/2)  # table of largest factor\n",
      "#primes = [2]\n",
      "\n",
      "def calculate_primes():\n",
      "    i = 2\n",
      "    while (i < (LIMIT_PRIME/2)):\n",
      "        if (prime_table[i] == 1):\n",
      "            primes.append(i)\n",
      "            j = i*2\n",
      "            while (j < LIMIT_PRIME):\n",
      "                prime_table[j] = i\n",
      "                j += i\n",
      "        i += 1\n",
      "    while (i < LIMIT_PRIME):\n",
      "        if (prime_table[i] == 1):\n",
      "            primes.append(i)\n",
      "        i += 1\n",
      "\n",
      "calculate_primes()\n",
      "print \"There are\", len(primes), \"primes less than\", LIMIT_PRIME\n",
      "#print \"They are\", primes\n"
     ],
     "language": "python",
     "metadata": {},
     "outputs": [
      {
       "output_type": "stream",
       "stream": "stdout",
       "text": [
        "There are 2063689 primes less than 33554432\n"
       ]
      }
     ],
     "prompt_number": 1
    },
    {
     "cell_type": "code",
     "collapsed": false,
     "input": [
      "def div_by_at_least_n_prime_squares(min_prime, limit, prime_count, debug=0):\n",
      "    if debug >= 2:\n",
      "        print(\"div_by_at_least_n_prime_squares(min_prime={}, \".format(min_prime)),\n",
      "        print(\"limit={}, prime_count={}, debug={})\".format(limit, prime_count, debug))\n",
      "    answer = 0\n",
      "\n",
      "    if (prime_count > 1):\n",
      "        # Recursion\n",
      "        for p in primes:\n",
      "            if (p < min_prime):\n",
      "                # p is below our limit, need a bigger prime\n",
      "                continue\n",
      "            if ((p**2) > limit):\n",
      "                # p is too large\n",
      "                break\n",
      "            if debug >= 2:\n",
      "                print(\"Dividing by {} and recursing\".format(p**2))\n",
      "            answer += div_by_at_least_n_prime_squares(p+1, limit/(p**2), prime_count-1, debug)\n",
      "\n",
      "    else:\n",
      "\n",
      "        for p in primes:\n",
      "            if (p < min_prime):\n",
      "                continue\n",
      "            if (p**2 >= limit):\n",
      "                break\n",
      "            answer += (limit-1)/(p**2)\n",
      "        \n",
      "            if (debug >= 2):\n",
      "                print(\"{}^2={}:\".format(p,p**2)),\n",
      "                for n in range((limit-1)/(p**2)):\n",
      "                    print(\"{},\".format((n+1)*(p**2))),\n",
      "                print\n",
      "\n",
      "    return answer"
     ],
     "language": "python",
     "metadata": {},
     "outputs": []
    },
    {
     "cell_type": "code",
     "collapsed": false,
     "input": [
      "div_by_at_least_n_prime_squares(2, 100, 1, debug=2)"
     ],
     "language": "python",
     "metadata": {},
     "outputs": []
    },
    {
     "cell_type": "code",
     "collapsed": false,
     "input": [
      "div_by_at_least_n_prime_squares(2, 100, 2, debug=2)"
     ],
     "language": "python",
     "metadata": {},
     "outputs": []
    },
    {
     "cell_type": "code",
     "collapsed": false,
     "input": [
      "def div_by_prime_square(limit, debug=0):\n",
      "    answer = 0\n",
      "    depth = 1\n",
      "    while True:\n",
      "        partial_answer = div_by_at_least_n_prime_squares(min_prime=2, limit=limit, prime_count=depth, debug=debug)\n",
      "\n",
      "        if debug >= 1:\n",
      "            print(\"    div_by_at_least_n_prime_squares(min_prime={}, limit={}, prime_count={}, debug={}) = {}\".format(\n",
      "                             2, limit, depth, debug, partial_answer))\n",
      "            \n",
      "        if partial_answer == 0:\n",
      "            break\n",
      "            \n",
      "        answer += (-1)**(depth+1) * partial_answer\n",
      "        depth += 1\n",
      "    return answer"
     ],
     "language": "python",
     "metadata": {},
     "outputs": []
    },
    {
     "cell_type": "code",
     "collapsed": false,
     "input": [
      "div_by_prime_square(100, debug=1)"
     ],
     "language": "python",
     "metadata": {},
     "outputs": [
      {
       "output_type": "stream",
       "stream": "stdout",
       "text": [
        "    div_by_at_least_n_prime_squares(min_prime=2, limit=100, prime_count=1, debug=1) = 40\n",
        "    div_by_at_least_n_prime_squares(min_prime=2, limit=100, prime_count=2, debug=1) = 2\n",
        "    div_by_at_least_n_prime_squares(min_prime=2, limit=100, prime_count=3, debug=1) = 0\n"
       ]
      },
      {
       "metadata": {},
       "output_type": "pyout",
       "prompt_number": 9,
       "text": [
        "38"
       ]
      }
     ],
     "prompt_number": 9
    },
    {
     "cell_type": "code",
     "collapsed": false,
     "input": [
      "div_by_prime_square(2**10, debug=1)"
     ],
     "language": "python",
     "metadata": {},
     "outputs": [
      {
       "output_type": "stream",
       "stream": "stdout",
       "text": [
        "    div_by_at_least_n_prime_squares(min_prime=2, limit=1024, prime_count=1, debug=1) = 450\n",
        "    div_by_at_least_n_prime_squares(min_prime=2, limit=1024, prime_count=2, debug=1) = 52\n",
        "    div_by_at_least_n_prime_squares(min_prime=2, limit=1024, prime_count=3, debug=1) = 1\n",
        "    div_by_at_least_n_prime_squares(min_prime=2, limit=1024, prime_count=4, debug=1) = 0\n"
       ]
      },
      {
       "metadata": {},
       "output_type": "pyout",
       "prompt_number": 10,
       "text": [
        "399"
       ]
      }
     ],
     "prompt_number": 10
    },
    {
     "cell_type": "code",
     "collapsed": false,
     "input": [
      "div_by_prime_square(2**20, debug=1)"
     ],
     "language": "python",
     "metadata": {},
     "outputs": [
      {
       "output_type": "stream",
       "stream": "stdout",
       "text": [
        "    div_by_at_least_n_prime_squares(min_prime=2, limit=1048576, prime_count=1, debug=1) = 474009\n",
        "    div_by_at_least_n_prime_squares(min_prime=2, limit=1048576, prime_count=2, debug=1) = 66465\n",
        "    div_by_at_least_n_prime_squares(min_prime=2, limit=1048576, prime_count=3, debug=1) = 3632\n",
        "    div_by_at_least_n_prime_squares(min_prime=2, limit=1048576, prime_count=4, debug=1) = 63\n",
        "    div_by_at_least_n_prime_squares(min_prime=2, limit=1048576, prime_count=5, debug=1) = 0\n"
       ]
      },
      {
       "metadata": {},
       "output_type": "pyout",
       "prompt_number": 11,
       "text": [
        "411113"
       ]
      }
     ],
     "prompt_number": 11
    },
    {
     "cell_type": "code",
     "collapsed": false,
     "input": [
      "div_by_prime_square(2**30, debug=1)"
     ],
     "language": "python",
     "metadata": {},
     "outputs": [
      {
       "output_type": "stream",
       "stream": "stdout",
       "text": [
        "    div_by_at_least_n_prime_squares(min_prime=2, limit=1073741824, prime_count=1, debug=1) = 485592457\n",
        "    div_by_at_least_n_prime_squares(min_prime=2, limit=1073741824, prime_count=2, debug=1) = 68458539"
       ]
      },
      {
       "output_type": "stream",
       "stream": "stdout",
       "text": [
        "\n",
        "    div_by_at_least_n_prime_squares(min_prime=2, limit=1073741824, prime_count=3, debug=1) = 3959275"
       ]
      },
      {
       "output_type": "stream",
       "stream": "stdout",
       "text": [
        "\n",
        "    div_by_at_least_n_prime_squares(min_prime=2, limit=1073741824, prime_count=4, debug=1) = 109393"
       ]
      },
      {
       "output_type": "stream",
       "stream": "stdout",
       "text": [
        "\n",
        "    div_by_at_least_n_prime_squares(min_prime=2, limit=1073741824, prime_count=5, debug=1) = 1301"
       ]
      },
      {
       "output_type": "stream",
       "stream": "stdout",
       "text": [
        "\n",
        "    div_by_at_least_n_prime_squares(min_prime=2, limit=1073741824, prime_count=6, debug=1) = 1"
       ]
      },
      {
       "output_type": "stream",
       "stream": "stdout",
       "text": [
        "\n",
        "    div_by_at_least_n_prime_squares(min_prime=2, limit=1073741824, prime_count=7, debug=1) = 0"
       ]
      },
      {
       "output_type": "stream",
       "stream": "stdout",
       "text": [
        "\n"
       ]
      },
      {
       "metadata": {},
       "output_type": "pyout",
       "prompt_number": 12,
       "text": [
        "420985100"
       ]
      }
     ],
     "prompt_number": 12
    },
    {
     "cell_type": "code",
     "collapsed": false,
     "input": [
      "div_by_prime_square(2**35, debug=1)"
     ],
     "language": "python",
     "metadata": {},
     "outputs": [
      {
       "output_type": "stream",
       "stream": "stdout",
       "text": [
        "    div_by_at_least_n_prime_squares(min_prime=2, limit=34359738368, prime_count=1, debug=1) = 15539081082\n",
        "    div_by_at_least_n_prime_squares(min_prime=2, limit=34359738368, prime_count=2, debug=1) = 2190969798"
       ]
      },
      {
       "output_type": "stream",
       "stream": "stdout",
       "text": [
        "\n",
        "    div_by_at_least_n_prime_squares(min_prime=2, limit=34359738368, prime_count=3, debug=1) = 126946297"
       ]
      },
      {
       "output_type": "stream",
       "stream": "stdout",
       "text": [
        "\n",
        "    div_by_at_least_n_prime_squares(min_prime=2, limit=34359738368, prime_count=4, debug=1) = 3587605"
       ]
      },
      {
       "output_type": "stream",
       "stream": "stdout",
       "text": [
        "\n",
        "    div_by_at_least_n_prime_squares(min_prime=2, limit=34359738368, prime_count=5, debug=1) = 52519"
       ]
      },
      {
       "output_type": "stream",
       "stream": "stdout",
       "text": [
        "\n",
        "    div_by_at_least_n_prime_squares(min_prime=2, limit=34359738368, prime_count=6, debug=1) = 258"
       ]
      },
      {
       "output_type": "stream",
       "stream": "stdout",
       "text": [
        "\n",
        "    div_by_at_least_n_prime_squares(min_prime=2, limit=34359738368, prime_count=7, debug=1) = 0"
       ]
      },
      {
       "output_type": "stream",
       "stream": "stdout",
       "text": [
        "\n"
       ]
      },
      {
       "metadata": {},
       "output_type": "pyout",
       "prompt_number": 16,
       "text": [
        "13471522237"
       ]
      }
     ],
     "prompt_number": 16
    },
    {
     "cell_type": "code",
     "collapsed": false,
     "input": [
      "div_by_prime_square(2**38, debug=1)"
     ],
     "language": "python",
     "metadata": {},
     "outputs": []
    },
    {
     "cell_type": "code",
     "collapsed": false,
     "input": [],
     "language": "python",
     "metadata": {},
     "outputs": []
    }
   ],
   "metadata": {}
  }
 ]
}