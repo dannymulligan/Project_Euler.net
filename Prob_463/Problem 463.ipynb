{
 "metadata": {
  "name": ""
 },
 "nbformat": 3,
 "nbformat_minor": 0,
 "worksheets": [
  {
   "cells": [
    {
     "cell_type": "markdown",
     "metadata": {},
     "source": [
      "![Project Euler.net](https://projecteuler.net/images/pe_banner_light.png)\n",
      "\n",
      "https://projecteuler.net/problem=463\n",
      "Problem 462 - A weird recurrence relation\n",
      "====\n",
      "\n",
      "The function $f$ is defined for all positive integers as follows:\n",
      "\n",
      "$$f(1)=1$$\n",
      "$$f(3)=3$$\n",
      "$$f(2n)=f(n)$$\n",
      "$$f(4n+1)=2f(2n+1) \u2212 f(n)$$\n",
      "$$f(4n+3)=3f(2n+1) \u2212 2f(n)$$\n",
      "\n",
      "The function $S(n)$ is defined as $\\sum\\limits_{i=1}^{n}f(i)$.\n",
      "\n",
      "$S(8)=22$ and $S(100)=3604$.\n",
      "\n",
      "Find $S(3^{37})$. Give the last 9 digits of your answer.\n"
     ]
    },
    {
     "cell_type": "markdown",
     "metadata": {},
     "source": [
      "Discussion"
     ]
    },
    {
     "cell_type": "code",
     "collapsed": false,
     "input": [
      "def f(n):\n",
      "    if n == 1:\n",
      "        return 1\n",
      "    elif n == 3:\n",
      "        return 3\n",
      "    elif n % 2 == 0:\n",
      "        return f(n/2)\n",
      "    elif (n % 4) == 1:\n",
      "        return 2*f(n/2+1) - f(n/4)\n",
      "    else:\n",
      "        return 3*f(n/2) - 2*f(n/4)"
     ],
     "language": "python",
     "metadata": {},
     "outputs": [],
     "prompt_number": 2
    },
    {
     "cell_type": "code",
     "collapsed": false,
     "input": [
      "def S(n):\n",
      "    ans = 0\n",
      "    for i in range(1,n+1):\n",
      "        ans += f(i)\n",
      "    return ans"
     ],
     "language": "python",
     "metadata": {},
     "outputs": [],
     "prompt_number": 3
    },
    {
     "cell_type": "code",
     "collapsed": false,
     "input": [
      "assert S(8) == 22\n",
      "assert S(100) == 3604"
     ],
     "language": "python",
     "metadata": {},
     "outputs": [],
     "prompt_number": 9
    },
    {
     "cell_type": "code",
     "collapsed": false,
     "input": [
      "%timeit S(100)"
     ],
     "language": "python",
     "metadata": {},
     "outputs": [
      {
       "output_type": "stream",
       "stream": "stdout",
       "text": [
        "1000 loops, best of 3: 373 \u00b5s per loop\n"
       ]
      }
     ],
     "prompt_number": 6
    },
    {
     "cell_type": "code",
     "collapsed": false,
     "input": [
      "for i in range(1,9):\n",
      "    print \"f({}) = {}\".format(i, f(i))"
     ],
     "language": "python",
     "metadata": {},
     "outputs": [
      {
       "output_type": "stream",
       "stream": "stdout",
       "text": [
        "f(1) = 1\n",
        "f(2) = 1\n",
        "f(3) = 3\n",
        "f(4) = 1\n",
        "f(5) = 5\n",
        "f(6) = 3\n",
        "f(7) = 7\n",
        "f(8) = 1\n"
       ]
      }
     ],
     "prompt_number": 8
    },
    {
     "cell_type": "markdown",
     "metadata": {},
     "source": [
      "Transforming the original formula...\n",
      "\n",
      "$$f(1)=1$$\n",
      "$$f(2)=1$$\n",
      "$$f(3)=3$$\n",
      "$$f(4)=1$$\n",
      "\n",
      "$$f(4n+0)=f(2n) = f(n)$$\n",
      "$$f(4n+1)=2f(2n+1) \u2212 f(n)$$\n",
      "$$f(4n+2)=f(2n+1)$$\n",
      "$$f(4n+3)=3f(2n+1) \u2212 2f(n)$$\n",
      "\n",
      "$$f(4n+0) + f(4n+1) + f(4n+2) + f(4n+1) = f(n) + 2f(2n+1) \u2212 f(n) + f(2n+1) + 3f(2n+1) \u2212 2f(n)$$\n",
      "\n",
      "$$f(4n+0) + f(4n+1) + f(4n+2) + f(4n+1) = 6f(2n+1) \u2212 2f(n)$$\n"
     ]
    },
    {
     "cell_type": "code",
     "collapsed": false,
     "input": [
      "1.0*(3**37)/(2**59)"
     ],
     "language": "python",
     "metadata": {},
     "outputs": [
      {
       "metadata": {},
       "output_type": "pyout",
       "prompt_number": 16,
       "text": [
        "0.7811180624036445"
       ]
      }
     ],
     "prompt_number": 16
    },
    {
     "cell_type": "markdown",
     "metadata": {},
     "source": [
      "$2^{28} < 3^{37} < 2^{29}$"
     ]
    },
    {
     "cell_type": "code",
     "collapsed": false,
     "input": [
      "\"{}\".format(3**37)"
     ],
     "language": "python",
     "metadata": {},
     "outputs": [
      {
       "metadata": {},
       "output_type": "pyout",
       "prompt_number": 17,
       "text": [
        "'450283905890997363'"
       ]
      }
     ],
     "prompt_number": 17
    },
    {
     "cell_type": "code",
     "collapsed": false,
     "input": [
      "bin(3**37)"
     ],
     "language": "python",
     "metadata": {},
     "outputs": [
      {
       "metadata": {},
       "output_type": "pyout",
       "prompt_number": 18,
       "text": [
        "'0b11000111111101110101101001110100010101101010101010001110011'"
       ]
      }
     ],
     "prompt_number": 18
    },
    {
     "cell_type": "code",
     "collapsed": false,
     "input": [],
     "language": "python",
     "metadata": {},
     "outputs": []
    }
   ],
   "metadata": {}
  }
 ]
}