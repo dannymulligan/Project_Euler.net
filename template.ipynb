{
 "metadata": {
  "name": "",
  "signature": "sha256:3e8cdcae09ceb6de4f3010bdb899723ce71432f96d76b2fca217100c44668de2"
 },
 "nbformat": 3,
 "nbformat_minor": 0,
 "worksheets": [
  {
   "cells": [
    {
     "cell_type": "markdown",
     "metadata": {},
     "source": [
      "<img style=\"float: left\" src=\"https://projecteuler.net/themes/default/pe_logo_default.png\">\n",
      "<p>\n",
      "\n",
      "https://projecteuler.net/problem=357\n",
      "Problem 357 - Prime generating integers\n",
      "====\n",
      "\n",
      "Consider the divisors of $30$: $1,2,3,5,6,10,15,30$.\n",
      "\n",
      "It can be seen that for every divisor $d$ of $30$, $d+30/d$ is prime.\n",
      "\n",
      "Find the sum of all positive integers $n$ not exceeding 100,000,000 such that for every divisor $d$ of $n$, $d+n/d$ is prime."
     ]
    },
    {
     "cell_type": "code",
     "collapsed": false,
     "input": [
      "import time\n",
      "start_time = time.clock()\n",
      "print(\"time taken {:.1f} seconds\".format(time.clock() - start_time))"
     ],
     "language": "python",
     "metadata": {},
     "outputs": []
    },
    {
     "cell_type": "code",
     "collapsed": false,
     "input": [],
     "language": "python",
     "metadata": {},
     "outputs": []
    }
   ],
   "metadata": {}
  }
 ]
}