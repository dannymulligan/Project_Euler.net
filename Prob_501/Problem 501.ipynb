{
 "metadata": {
  "name": "",
  "signature": "sha256:56dd4af54d9f0c073c213dd25cc3c2705900ad7ae790620d2d74c79b3a782a42"
 },
 "nbformat": 3,
 "nbformat_minor": 0,
 "worksheets": [
  {
   "cells": [
    {
     "cell_type": "markdown",
     "metadata": {},
     "source": [
      "![Project Euler.net](https://projecteuler.net/images/pe_banner_light.png)\n",
      "\n",
      "https://projecteuler.net/problem=501\n",
      "Problem 501 - Eight Divisors\n",
      "====\n",
      "\n",
      "The eight divisors of 24 are 1, 2, 3, 4, 6, 8, 12 and 24.\n",
      "\n",
      "The ten numbers not exceeding 100 having exactly eight divisors are 24, 30, 40, 42, 54, 56, 66, 70, 78 and 88.\n",
      "\n",
      "Let f(n) be the count of numbers not exceeding n with exactly eight divisors.\n",
      "\n",
      "You are given $f(100) = 10$, $f(1000) = 180$ and $f(10^6) = 224427$.\n",
      "\n",
      "Find $f(10^{12})$."
     ]
    },
    {
     "cell_type": "markdown",
     "metadata": {},
     "source": [
      "____\n",
      "\n",
      "In order to have 8 divisors, a number must be of the form\n",
      "\n",
      "$N = P_1 * P_2 * P_3$  (let's call this type A)\n",
      "\n",
      "where $P_1$, $P_2$, & $P_3$ are different primes.\n",
      "\n",
      "This number will have the following divisors\n",
      "$1 * 1 * 1$,\n",
      "$1 * 1 * P_3$,\n",
      "$1 * P_2 * 1$,\n",
      "$1 * P_2 * P_3$,\n",
      "$P_1 * 1 * 1$,\n",
      "$P_1 * 1 * P_3$,\n",
      "$P_1 * P_2 * 1$, and\n",
      "$P_1 * P_2 * P_3$.\n",
      "\n",
      "Or the number must be of the form\n",
      "\n",
      "$N = P_1^3 * P_2$  (let's call this type B)\n",
      "\n",
      "where $P_1$, & $P_2$ are different primes.\n",
      "\n",
      "This number will have the following divisors\n",
      "$1 * 1$,\n",
      "$1 * P_2$,\n",
      "$P_1 * 1$,\n",
      "$P_1 * P_2$,\n",
      "$P_1^2 * 1$,\n",
      "$P_1^2 * P_2$,\n",
      "$P_1^3 * 1$, and\n",
      "$P_1^3 * P_2$.\n",
      "\n",
      "Or the number must be of the form\n",
      "\n",
      "$N = P_1 * P_2^3$  (let's call this type C)\n",
      "\n",
      "where $P_1$, & $P_2$ are different primes.\n",
      "\n",
      "This number will have the following divisors\n",
      "$1 * 1$,\n",
      "$1 * P_2$,\n",
      "$1 * P_2^2$,\n",
      "$1 * P_2^3$,\n",
      "$P_1 * 1$,\n",
      "$P_1 * P_2$,\n",
      "$P_1 * P_2^2$, and\n",
      "$P_1 * P_2^3$.\n",
      "\n",
      "Of the number must be of the form\n",
      "\n",
      "$N = P_1^7$  (let's call this type D)\n",
      "\n",
      "where $P_1$ is a prime.\n",
      "\n",
      "This number will have the following divisors\n",
      "$1$,\n",
      "$P_1$,\n",
      "$P_1^2$,\n",
      "$P_1^3$,\n",
      "$P_1^4$,\n",
      "$P_1^5$,\n",
      "$P_1^6$, and\n",
      "$P_1^7$.\n"
     ]
    },
    {
     "cell_type": "code",
     "collapsed": false,
     "input": [
      "import time\n",
      "\n",
      "LIMIT_PRIME = 10**6\n",
      "prime_table = [1]*LIMIT_PRIME  # table of largest factor\n",
      "primes = []\n",
      "\n",
      "############################################################\n",
      "def calculate_primes(limit=LIMIT_PRIME):\n",
      "    start_time = time.clock()\n",
      "    if (limit>len(prime_table)):\n",
      "        raise Exception(\"prime_table is too small ({} entries, need at least {})\".format(len(prime_table), limit))\n",
      "\n",
      "    # Optimization to allow us to increment i by 2 for the rest of the algoritm\n",
      "    i = 2\n",
      "    prime_table[i] = i\n",
      "    primes.append(i)\n",
      "    j = i**2\n",
      "    while (j < limit):\n",
      "        prime_table[j] = i\n",
      "        j += i\n",
      "\n",
      "    i = 3\n",
      "    while (i < (limit/2)):\n",
      "        if (prime_table[i] == 1):\n",
      "            primes.append(i)\n",
      "            j = i**2\n",
      "            while (j < limit):\n",
      "                prime_table[j] = i\n",
      "                j += i\n",
      "        i += 2\n",
      "    while (i < limit):\n",
      "        if (prime_table[i] == 1):\n",
      "            primes.append(i)\n",
      "        i += 2\n",
      "    print(\"There are {} primes less than {}, calculated in {} seconds\".format(len(primes), limit, (time.clock() - start_time)))\n",
      "\n",
      "calculate_primes(limit = 10**6)"
     ],
     "language": "python",
     "metadata": {},
     "outputs": [
      {
       "output_type": "stream",
       "stream": "stdout",
       "text": [
        "There are 78498 primes less than 1000000, calculated in 0.378304 seconds\n"
       ]
      }
     ],
     "prompt_number": 1
    },
    {
     "cell_type": "code",
     "collapsed": false,
     "input": [
      "def product(nums):\n",
      "    from functools import reduce\n",
      "    import operator\n",
      "    return reduce(operator.mul, nums, 1)\n",
      "\n",
      "assert (product(primes[:3]) == 30)"
     ],
     "language": "python",
     "metadata": {},
     "outputs": [],
     "prompt_number": 2
    },
    {
     "cell_type": "code",
     "collapsed": false,
     "input": [
      "def combinations_products(n, p, q, x):\n",
      "    #print(\"    combinations_products(n={n}, p={p}, q={q}, x={x})\".format(n=n, p=p, q=q, x=x))\n",
      "    \"\"\"Return the products of all possible combinations of n primes\n",
      "    in primes[p:q] where the product is <= x\"\"\"\n",
      "    \n",
      "    if (n == 1):\n",
      "        # Return each prime in primes[p:q] that is <= x\n",
      "        for result in primes[p:q]:\n",
      "            if result > x:\n",
      "                break\n",
      "            else:\n",
      "                #yield [result], result         \n",
      "                yield result         \n",
      "    else:\n",
      "        # Pick off a leading prime and recurse\n",
      "        i = p\n",
      "        while (product(primes[i:i+n]) <= x):\n",
      "            #for explain, sub_result in combinations_products(n-1, i+1, q, x/primes[i]):\n",
      "            for sub_result in combinations_products(n-1, i+1, q, x/primes[i]):\n",
      "                #yield [primes[i]] + explain, primes[i] * sub_result\n",
      "                yield primes[i] * sub_result\n",
      "            i += 1\n",
      "\n",
      "#for t, x in combinations_products(2, 0, 4, 32):\n",
      "#    print t, x\n",
      "for x in combinations_products(2, 0, 4, 32):\n",
      "    print x"
     ],
     "language": "python",
     "metadata": {},
     "outputs": [
      {
       "output_type": "stream",
       "stream": "stdout",
       "text": [
        "6\n",
        "10\n",
        "14\n",
        "15\n",
        "21\n"
       ]
      }
     ],
     "prompt_number": 3
    },
    {
     "cell_type": "code",
     "collapsed": false,
     "input": [
      "def pi(x):\n",
      "    print(\"pi(x={x})\".format(x=x))\n",
      "    \"\"\"Calculate the number of prime numbers less than n\"\"\"\n",
      "    # Assumes that calculate_primes() was already run\n",
      "    result = x - 1\n",
      "\n",
      "    # Subtract off the multiples of single primes up to the square root of x\n",
      "    q = 0\n",
      "    while (primes[q]**2 < x):\n",
      "        result -= (x/primes[q] - 1)\n",
      "        q += 1\n",
      "\n",
      "    #print(\"Preliminary result = {}, working with primes up to primes[:{}] = {}\".format(result, q, primes[:q]))\n",
      "    \n",
      "    # Adjust for the multiples of more than one prime\n",
      "    n = 2\n",
      "    while (product(primes[:n]) < x):\n",
      "        adjust = 0\n",
      "        #for t, nn in combinations_products(n, 0, q, x):\n",
      "        for nn in combinations_products(n, 0, q, x):\n",
      "            adjust += x/nn\n",
      "        result += (-1)**n * adjust\n",
      "        #print(\"Adjust for multiples of {} primes: adjustment={}, new result={}\".format(n, (-1)**n * adjust, result))\n",
      "        n += 1\n",
      "\n",
      "    return result"
     ],
     "language": "python",
     "metadata": {},
     "outputs": [],
     "prompt_number": 64
    },
    {
     "cell_type": "code",
     "collapsed": false,
     "input": [
      "# Test the code for calculating pi(x)\n",
      "import time\n",
      "# Expected results taken from: https://en.wikipedia.org/wiki/Prime-counting_function\n",
      "expected_results = [0, 4, 25, 168, 1229, 9592, 78498, 664579, 5761455, 50847534, 455052511, 4118054813, 37607912018]\n",
      "for n in range(1,7):\n",
      "    start_time = time.clock()\n",
      "    expected_p = expected_results[n]\n",
      "    p = pi(10**n)\n",
      "    if p != expected_p:\n",
      "        print(\"Error\"),\n",
      "    print(\"pi(10**{}) ={}, calculated in {} seconds\".format(n, p, time.clock()-start_time))\n"
     ],
     "language": "python",
     "metadata": {},
     "outputs": [
      {
       "output_type": "stream",
       "stream": "stdout",
       "text": [
        "pi(10**1) =4, calculated in 5.20000000001e-05 seconds\n",
        "pi(10**2) =25, calculated in 0.000102 seconds\n",
        "pi(10**3) =168, calculated in 0.00048 seconds\n",
        "pi(10**4) =1229, calculated in 0.002977 seconds\n",
        "pi(10**5) =9592, calculated in 0.021891 seconds\n",
        "pi(10**6) =78498, calculated in 0.104781 seconds"
       ]
      },
      {
       "output_type": "stream",
       "stream": "stdout",
       "text": [
        "\n"
       ]
      }
     ],
     "prompt_number": 5
    },
    {
     "cell_type": "code",
     "collapsed": false,
     "input": [
      "def type_d(n):\n",
      "    \"\"\"Count the number of possible values of p1^7 < n\"\"\"\n",
      "    answer = 0\n",
      "    i = 0\n",
      "    while primes[i]**7 <= n:\n",
      "        #print(\"{}^7 = {}\".format(primes[i], primes[i]**7))\n",
      "        answer += 1\n",
      "        i += 1\n",
      "    return answer"
     ],
     "language": "python",
     "metadata": {},
     "outputs": [],
     "prompt_number": 57
    },
    {
     "cell_type": "code",
     "collapsed": false,
     "input": [
      "type_d(10**12)"
     ],
     "language": "python",
     "metadata": {},
     "outputs": [
      {
       "metadata": {},
       "output_type": "pyout",
       "prompt_number": 58,
       "text": [
        "15"
       ]
      }
     ],
     "prompt_number": 58
    },
    {
     "cell_type": "code",
     "collapsed": false,
     "input": [
      "def type_c(n):\n",
      "    \"\"\"Count the number of possible values of p1 * p2^3 < n\"\"\"\n",
      "    answer = 0\n",
      "    i = 0\n",
      "    while primes[i]*(primes[i+1]**3) <= n:\n",
      "        j = i + 1\n",
      "        while primes[i]*(primes[j]**3) <= n:\n",
      "            #print(\"{}*{}^3 = {}\".format(primes[i], primes[j], primes[i]*primes[j]**3))\n",
      "            answer += 1\n",
      "            j += 1\n",
      "        i += 1\n",
      "    return answer"
     ],
     "language": "python",
     "metadata": {},
     "outputs": [],
     "prompt_number": 59
    },
    {
     "cell_type": "code",
     "collapsed": false,
     "input": [
      "type_c(10**12)"
     ],
     "language": "python",
     "metadata": {},
     "outputs": [
      {
       "metadata": {},
       "output_type": "pyout",
       "prompt_number": 60,
       "text": [
        "28778"
       ]
      }
     ],
     "prompt_number": 60
    },
    {
     "cell_type": "code",
     "collapsed": false,
     "input": [
      "def type_b(n):\n",
      "    \"\"\"Count the number of possible values of p1^3 * p2 < n\"\"\"\n",
      "    answer = 0\n",
      "    i = 0\n",
      "    while (primes[i]**3)*primes[i+1] <= n:\n",
      "        j = i + 1\n",
      "        while (primes[i]**3)*primes[j] <= n:\n",
      "            #print(\"{}^3*{} = {}\".format(primes[i], primes[j], primes[i]**3*primes[j]))\n",
      "            answer += 1\n",
      "            j += 1\n",
      "        #print(\"i = {}, primes[i] = {}, answer = {}\".format(i, primes[i], answer))\n",
      "        i += 1\n",
      "    return answer"
     ],
     "language": "python",
     "metadata": {},
     "outputs": [],
     "prompt_number": 70
    },
    {
     "cell_type": "code",
     "collapsed": false,
     "input": [
      "def type_b(n):\n",
      "    \"\"\"Count the number of possible values of p1^3 * p2 < n\"\"\"\n",
      "    # More efficient version, using pi(n)\n",
      "    answer = 0\n",
      "    i = 0\n",
      "    while (primes[i]**3)*primes[i+1] <= n:\n",
      "        answer += pi(n/(primes[i]**3)) - i - 1\n",
      "        #print(\"i = {}, primes[i] = {}, answer = {}\".format(i, primes[i], answer))\n",
      "        i += 1\n",
      "    return answer"
     ],
     "language": "python",
     "metadata": {},
     "outputs": [],
     "prompt_number": 72
    },
    {
     "cell_type": "code",
     "collapsed": false,
     "input": [
      "type_b(10**9)"
     ],
     "language": "python",
     "metadata": {},
     "outputs": [
      {
       "output_type": "stream",
       "stream": "stdout",
       "text": [
        "pi(x=125000000)\n",
        "pi(x=37037037)"
       ]
      },
      {
       "output_type": "stream",
       "stream": "stdout",
       "text": [
        "\n",
        "pi(x=8000000)"
       ]
      },
      {
       "output_type": "stream",
       "stream": "stdout",
       "text": [
        "\n",
        "pi(x=2915451)"
       ]
      },
      {
       "output_type": "stream",
       "stream": "stdout",
       "text": [
        "\n",
        "pi(x=751314)"
       ]
      },
      {
       "output_type": "stream",
       "stream": "stdout",
       "text": [
        "\n",
        "pi(x=455166)"
       ]
      },
      {
       "output_type": "stream",
       "stream": "stdout",
       "text": [
        "\n",
        "pi(x=203541)\n",
        "pi(x=145793)"
       ]
      },
      {
       "output_type": "stream",
       "stream": "stdout",
       "text": [
        "\n",
        "pi(x=82189)\n",
        "pi(x=41002)\n",
        "pi(x=33567)\n",
        "pi(x=19742)\n",
        "pi(x=14509)\n",
        "pi(x=12577)\n",
        "pi(x=9631)\n",
        "pi(x=6716)\n",
        "pi(x=4869)\n",
        "pi(x=4405)\n",
        "pi(x=3324)\n",
        "pi(x=2793)\n",
        "pi(x=2570)\n",
        "pi(x=2028)\n",
        "pi(x=1748)\n",
        "pi(x=1418)\n",
        "pi(x=1095)"
       ]
      },
      {
       "output_type": "stream",
       "stream": "stdout",
       "text": [
        "\n",
        "pi(x=970)\n",
        "pi(x=915)\n",
        "pi(x=816)\n",
        "pi(x=772)\n",
        "pi(x=693)\n",
        "pi(x=488)\n",
        "pi(x=444)\n",
        "pi(x=388)\n",
        "pi(x=372)\n",
        "pi(x=302)\n",
        "pi(x=290)\n",
        "pi(x=258)\n",
        "pi(x=230)\n",
        "pi(x=214)\n",
        "pi(x=193)\n"
       ]
      },
      {
       "metadata": {},
       "output_type": "pyout",
       "prompt_number": 75,
       "text": [
        "10282459"
       ]
      }
     ],
     "prompt_number": 75
    },
    {
     "cell_type": "code",
     "collapsed": false,
     "input": [
      "def type_a(n):\n",
      "    \"\"\"Count the number of possible values of p1 * p2 * p3 < n\"\"\"\n",
      "    answer = 0\n",
      "    i = 0\n",
      "    while product(primes[i:i+3]) <= n:\n",
      "        j = i + 1\n",
      "        while primes[i]*primes[j]*primes[j+1] <= n:\n",
      "            k = j + 1\n",
      "            while primes[i]*primes[j]*primes[k] <= n:\n",
      "                #print(\"{}*{}*{} = {}\".format(primes[i], primes[j], primes[k], primes[i]*primes[j]*primes[k]))\n",
      "                answer += 1\n",
      "                k += 1\n",
      "            j += 1\n",
      "        i += 1\n",
      "    return answer"
     ],
     "language": "python",
     "metadata": {},
     "outputs": [],
     "prompt_number": 12
    },
    {
     "cell_type": "code",
     "collapsed": false,
     "input": [
      "type_a(10**6)"
     ],
     "language": "python",
     "metadata": {},
     "outputs": [
      {
       "metadata": {},
       "output_type": "pyout",
       "prompt_number": 13,
       "text": [
        "206964"
       ]
      }
     ],
     "prompt_number": 13
    },
    {
     "cell_type": "code",
     "collapsed": false,
     "input": [
      "def f(n):\n",
      "    d = type_d(n)\n",
      "    print(\"There are {} Type D solutions.\".format(d))\n",
      "    c = type_c(n)\n",
      "    print(\"There are {} Type C solutions.\".format(c))\n",
      "    b = type_b(n)\n",
      "    print(\"There are {} Type B solutions.\".format(b))\n",
      "    a = type_a(n)\n",
      "    print(\"There are {} Type A solutions.\".format(a))\n",
      "    return a + b + c + d"
     ],
     "language": "python",
     "metadata": {},
     "outputs": [],
     "prompt_number": 41
    },
    {
     "cell_type": "code",
     "collapsed": false,
     "input": [
      "f(100)"
     ],
     "language": "python",
     "metadata": {},
     "outputs": [
      {
       "output_type": "stream",
       "stream": "stdout",
       "text": [
        "There are 0 Type D solutions.\n",
        "There are 1 Type C solutions.\n",
        "There are 4 Type B solutions.\n",
        "There are 5 Type A solutions.\n"
       ]
      },
      {
       "metadata": {},
       "output_type": "pyout",
       "prompt_number": 46,
       "text": [
        "10"
       ]
      }
     ],
     "prompt_number": 46
    },
    {
     "cell_type": "code",
     "collapsed": false,
     "input": [
      "f(1000)"
     ],
     "language": "python",
     "metadata": {},
     "outputs": [
      {
       "output_type": "stream",
       "stream": "stdout",
       "text": [
        "There are 1 Type D solutions.\n",
        "There are 4 Type C solutions.\n",
        "There are 40 Type B solutions.\n",
        "There are 135 Type A solutions.\n"
       ]
      },
      {
       "metadata": {},
       "output_type": "pyout",
       "prompt_number": 47,
       "text": [
        "180"
       ]
      }
     ],
     "prompt_number": 47
    },
    {
     "cell_type": "code",
     "collapsed": false,
     "input": [
      "f(10**6)"
     ],
     "language": "python",
     "metadata": {},
     "outputs": [
      {
       "output_type": "stream",
       "stream": "stdout",
       "text": [
        "There are 4 Type D solutions.\n",
        "There are 90 Type C solutions.\n",
        "There are 17369 Type B solutions.\n",
        "There are 206964 Type A solutions."
       ]
      },
      {
       "output_type": "stream",
       "stream": "stdout",
       "text": [
        "\n"
       ]
      },
      {
       "metadata": {},
       "output_type": "pyout",
       "prompt_number": 48,
       "text": [
        "224427"
       ]
      }
     ],
     "prompt_number": 48
    },
    {
     "cell_type": "code",
     "collapsed": false,
     "input": [
      "f(10**12)"
     ],
     "language": "python",
     "metadata": {},
     "outputs": [
      {
       "output_type": "stream",
       "stream": "stdout",
       "text": [
        "There are 15 Type D solutions.\n",
        "There are 28778 Type C solutions.\n"
       ]
      },
      {
       "ename": "KeyboardInterrupt",
       "evalue": "",
       "output_type": "pyerr",
       "traceback": [
        "\u001b[0;31m---------------------------------------------------------------------------\u001b[0m\n\u001b[0;31mKeyboardInterrupt\u001b[0m                         Traceback (most recent call last)",
        "\u001b[0;32m<ipython-input-51-80c9f272269d>\u001b[0m in \u001b[0;36m<module>\u001b[0;34m()\u001b[0m\n\u001b[0;32m----> 1\u001b[0;31m \u001b[0mf\u001b[0m\u001b[0;34m(\u001b[0m\u001b[0;36m10\u001b[0m\u001b[0;34m**\u001b[0m\u001b[0;36m12\u001b[0m\u001b[0;34m)\u001b[0m\u001b[0;34m\u001b[0m\u001b[0m\n\u001b[0m",
        "\u001b[0;32m<ipython-input-41-5c5e36eb0b9b>\u001b[0m in \u001b[0;36mf\u001b[0;34m(n)\u001b[0m\n\u001b[1;32m      4\u001b[0m     \u001b[0mc\u001b[0m \u001b[0;34m=\u001b[0m \u001b[0mtype_c\u001b[0m\u001b[0;34m(\u001b[0m\u001b[0mn\u001b[0m\u001b[0;34m)\u001b[0m\u001b[0;34m\u001b[0m\u001b[0m\n\u001b[1;32m      5\u001b[0m     \u001b[0;32mprint\u001b[0m\u001b[0;34m(\u001b[0m\u001b[0;34m\"There are {} Type C solutions.\"\u001b[0m\u001b[0;34m.\u001b[0m\u001b[0mformat\u001b[0m\u001b[0;34m(\u001b[0m\u001b[0mc\u001b[0m\u001b[0;34m)\u001b[0m\u001b[0;34m)\u001b[0m\u001b[0;34m\u001b[0m\u001b[0m\n\u001b[0;32m----> 6\u001b[0;31m     \u001b[0mb\u001b[0m \u001b[0;34m=\u001b[0m \u001b[0mtype_b\u001b[0m\u001b[0;34m(\u001b[0m\u001b[0mn\u001b[0m\u001b[0;34m)\u001b[0m\u001b[0;34m\u001b[0m\u001b[0m\n\u001b[0m\u001b[1;32m      7\u001b[0m     \u001b[0;32mprint\u001b[0m\u001b[0;34m(\u001b[0m\u001b[0;34m\"There are {} Type B solutions.\"\u001b[0m\u001b[0;34m.\u001b[0m\u001b[0mformat\u001b[0m\u001b[0;34m(\u001b[0m\u001b[0mb\u001b[0m\u001b[0;34m)\u001b[0m\u001b[0;34m)\u001b[0m\u001b[0;34m\u001b[0m\u001b[0m\n\u001b[1;32m      8\u001b[0m     \u001b[0ma\u001b[0m \u001b[0;34m=\u001b[0m \u001b[0mtype_a\u001b[0m\u001b[0;34m(\u001b[0m\u001b[0mn\u001b[0m\u001b[0;34m)\u001b[0m\u001b[0;34m\u001b[0m\u001b[0m\n",
        "\u001b[0;32m<ipython-input-50-3e7a3e2e0855>\u001b[0m in \u001b[0;36mtype_b\u001b[0;34m(n)\u001b[0m\n\u001b[1;32m      5\u001b[0m     \u001b[0mi\u001b[0m \u001b[0;34m=\u001b[0m \u001b[0;36m0\u001b[0m\u001b[0;34m\u001b[0m\u001b[0m\n\u001b[1;32m      6\u001b[0m     \u001b[0;32mwhile\u001b[0m \u001b[0;34m(\u001b[0m\u001b[0mprimes\u001b[0m\u001b[0;34m[\u001b[0m\u001b[0mi\u001b[0m\u001b[0;34m]\u001b[0m\u001b[0;34m**\u001b[0m\u001b[0;36m3\u001b[0m\u001b[0;34m)\u001b[0m\u001b[0;34m*\u001b[0m\u001b[0mprimes\u001b[0m\u001b[0;34m[\u001b[0m\u001b[0mi\u001b[0m\u001b[0;34m+\u001b[0m\u001b[0;36m1\u001b[0m\u001b[0;34m]\u001b[0m \u001b[0;34m<=\u001b[0m \u001b[0mn\u001b[0m\u001b[0;34m:\u001b[0m\u001b[0;34m\u001b[0m\u001b[0m\n\u001b[0;32m----> 7\u001b[0;31m         \u001b[0manswer\u001b[0m \u001b[0;34m+=\u001b[0m \u001b[0mpi\u001b[0m\u001b[0;34m(\u001b[0m\u001b[0mn\u001b[0m\u001b[0;34m/\u001b[0m\u001b[0;34m(\u001b[0m\u001b[0mprimes\u001b[0m\u001b[0;34m[\u001b[0m\u001b[0mi\u001b[0m\u001b[0;34m]\u001b[0m\u001b[0;34m**\u001b[0m\u001b[0;36m3\u001b[0m\u001b[0;34m)\u001b[0m\u001b[0;34m)\u001b[0m \u001b[0;34m-\u001b[0m \u001b[0mi\u001b[0m \u001b[0;34m-\u001b[0m \u001b[0;36m1\u001b[0m\u001b[0;34m\u001b[0m\u001b[0m\n\u001b[0m\u001b[1;32m      8\u001b[0m         \u001b[0;31m#print(\"i = {}, primes[i] = {}, answer = {}\".format(i, primes[i], answer))\u001b[0m\u001b[0;34m\u001b[0m\u001b[0;34m\u001b[0m\u001b[0m\n\u001b[1;32m      9\u001b[0m         \u001b[0mi\u001b[0m \u001b[0;34m+=\u001b[0m \u001b[0;36m1\u001b[0m\u001b[0;34m\u001b[0m\u001b[0m\n",
        "\u001b[0;32m<ipython-input-4-2f1741796a99>\u001b[0m in \u001b[0;36mpi\u001b[0;34m(x)\u001b[0m\n\u001b[1;32m     17\u001b[0m         \u001b[0madjust\u001b[0m \u001b[0;34m=\u001b[0m \u001b[0;36m0\u001b[0m\u001b[0;34m\u001b[0m\u001b[0m\n\u001b[1;32m     18\u001b[0m         \u001b[0;31m#for t, nn in combinations_products(n, 0, q, x):\u001b[0m\u001b[0;34m\u001b[0m\u001b[0;34m\u001b[0m\u001b[0m\n\u001b[0;32m---> 19\u001b[0;31m         \u001b[0;32mfor\u001b[0m \u001b[0mnn\u001b[0m \u001b[0;32min\u001b[0m \u001b[0mcombinations_products\u001b[0m\u001b[0;34m(\u001b[0m\u001b[0mn\u001b[0m\u001b[0;34m,\u001b[0m \u001b[0;36m0\u001b[0m\u001b[0;34m,\u001b[0m \u001b[0mq\u001b[0m\u001b[0;34m,\u001b[0m \u001b[0mx\u001b[0m\u001b[0;34m)\u001b[0m\u001b[0;34m:\u001b[0m\u001b[0;34m\u001b[0m\u001b[0m\n\u001b[0m\u001b[1;32m     20\u001b[0m             \u001b[0madjust\u001b[0m \u001b[0;34m+=\u001b[0m \u001b[0mx\u001b[0m\u001b[0;34m/\u001b[0m\u001b[0mnn\u001b[0m\u001b[0;34m\u001b[0m\u001b[0m\n\u001b[1;32m     21\u001b[0m         \u001b[0mresult\u001b[0m \u001b[0;34m+=\u001b[0m \u001b[0;34m(\u001b[0m\u001b[0;34m-\u001b[0m\u001b[0;36m1\u001b[0m\u001b[0;34m)\u001b[0m\u001b[0;34m**\u001b[0m\u001b[0mn\u001b[0m \u001b[0;34m*\u001b[0m \u001b[0madjust\u001b[0m\u001b[0;34m\u001b[0m\u001b[0m\n",
        "\u001b[0;32m<ipython-input-3-2e2d31a96a43>\u001b[0m in \u001b[0;36mcombinations_products\u001b[0;34m(n, p, q, x)\u001b[0m\n\u001b[1;32m     19\u001b[0m             \u001b[0;32mfor\u001b[0m \u001b[0msub_result\u001b[0m \u001b[0;32min\u001b[0m \u001b[0mcombinations_products\u001b[0m\u001b[0;34m(\u001b[0m\u001b[0mn\u001b[0m\u001b[0;34m-\u001b[0m\u001b[0;36m1\u001b[0m\u001b[0;34m,\u001b[0m \u001b[0mi\u001b[0m\u001b[0;34m+\u001b[0m\u001b[0;36m1\u001b[0m\u001b[0;34m,\u001b[0m \u001b[0mq\u001b[0m\u001b[0;34m,\u001b[0m \u001b[0mx\u001b[0m\u001b[0;34m/\u001b[0m\u001b[0mprimes\u001b[0m\u001b[0;34m[\u001b[0m\u001b[0mi\u001b[0m\u001b[0;34m]\u001b[0m\u001b[0;34m)\u001b[0m\u001b[0;34m:\u001b[0m\u001b[0;34m\u001b[0m\u001b[0m\n\u001b[1;32m     20\u001b[0m                 \u001b[0;31m#yield [primes[i]] + explain, primes[i] * sub_result\u001b[0m\u001b[0;34m\u001b[0m\u001b[0;34m\u001b[0m\u001b[0m\n\u001b[0;32m---> 21\u001b[0;31m                 \u001b[0;32myield\u001b[0m \u001b[0mprimes\u001b[0m\u001b[0;34m[\u001b[0m\u001b[0mi\u001b[0m\u001b[0;34m]\u001b[0m \u001b[0;34m*\u001b[0m \u001b[0msub_result\u001b[0m\u001b[0;34m\u001b[0m\u001b[0m\n\u001b[0m\u001b[1;32m     22\u001b[0m             \u001b[0mi\u001b[0m \u001b[0;34m+=\u001b[0m \u001b[0;36m1\u001b[0m\u001b[0;34m\u001b[0m\u001b[0m\n\u001b[1;32m     23\u001b[0m \u001b[0;34m\u001b[0m\u001b[0m\n",
        "\u001b[0;31mKeyboardInterrupt\u001b[0m: "
       ]
      }
     ],
     "prompt_number": 51
    },
    {
     "cell_type": "code",
     "collapsed": false,
     "input": [
      "len(primes)"
     ],
     "language": "python",
     "metadata": {},
     "outputs": [
      {
       "metadata": {},
       "output_type": "pyout",
       "prompt_number": 18,
       "text": [
        "78498"
       ]
      }
     ],
     "prompt_number": 18
    },
    {
     "cell_type": "code",
     "collapsed": false,
     "input": [],
     "language": "python",
     "metadata": {},
     "outputs": []
    }
   ],
   "metadata": {}
  }
 ]
}