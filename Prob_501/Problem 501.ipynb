{
 "metadata": {
  "name": "",
  "signature": "sha256:01e5560babd68d5c5668ed406b6db0aa5b8021329d7c9e65e5653c1287256aae"
 },
 "nbformat": 3,
 "nbformat_minor": 0,
 "worksheets": [
  {
   "cells": [
    {
     "cell_type": "markdown",
     "metadata": {},
     "source": [
      "![Project Euler.net](https://projecteuler.net/images/pe_banner_light.png)\n",
      "\n",
      "https://projecteuler.net/problem=501\n",
      "Problem 501 - Eight Divisors\n",
      "====\n",
      "\n",
      "The eight divisors of 24 are 1, 2, 3, 4, 6, 8, 12 and 24.\n",
      "\n",
      "The ten numbers not exceeding 100 having exactly eight divisors are 24, 30, 40, 42, 54, 56, 66, 70, 78 and 88.\n",
      "\n",
      "Let f(n) be the count of numbers not exceeding n with exactly eight divisors.\n",
      "\n",
      "You are given $f(100) = 10$, $f(1000) = 180$ and $f(10^6) = 224427$.\n",
      "\n",
      "Find $f(10^{12})$."
     ]
    },
    {
     "cell_type": "markdown",
     "metadata": {},
     "source": [
      "____\n",
      "\n",
      "In order to have 8 divisors, a number must be of the form\n",
      "\n",
      "$N = P_1 * P_2 * P_3$  (let's call this type A)\n",
      "\n",
      "where $P_1$, $P_2$, & $P_3$ are different primes.\n",
      "\n",
      "This number will have the following divisors\n",
      "$1 * 1 * 1$,\n",
      "$1 * 1 * P_3$,\n",
      "$1 * P_2 * 1$,\n",
      "$1 * P_2 * P_3$,\n",
      "$P_1 * 1 * 1$,\n",
      "$P_1 * 1 * P_3$,\n",
      "$P_1 * P_2 * 1$, and\n",
      "$P_1 * P_2 * P_3$.\n",
      "\n",
      "Or the number must be of the form\n",
      "\n",
      "$N = P_1^3 * P_2$  (let's call this type B)\n",
      "\n",
      "where $P_1$, & $P_2$ are different primes.\n",
      "\n",
      "This number will have the following divisors\n",
      "$1 * 1$,\n",
      "$1 * P_2$,\n",
      "$P_1 * 1$,\n",
      "$P_1 * P_2$,\n",
      "$P_1^2 * 1$,\n",
      "$P_1^2 * P_2$,\n",
      "$P_1^3 * 1$, and\n",
      "$P_1^3 * P_2$.\n",
      "\n",
      "Or the number must be of the form\n",
      "\n",
      "$N = P_1 * P_2^3$  (let's call this type C)\n",
      "\n",
      "where $P_1$, & $P_2$ are different primes.\n",
      "\n",
      "This number will have the following divisors\n",
      "$1 * 1$,\n",
      "$1 * P_2$,\n",
      "$1 * P_2^2$,\n",
      "$1 * P_2^3$,\n",
      "$P_1 * 1$,\n",
      "$P_1 * P_2$,\n",
      "$P_1 * P_2^2$, and\n",
      "$P_1 * P_2^3$.\n"
     ]
    },
    {
     "cell_type": "code",
     "collapsed": false,
     "input": [
      "import time\n",
      "\n",
      "LIMIT_PRIME = 10**6\n",
      "prime_table = [1]*LIMIT_PRIME  # table of largest factor\n",
      "primes = []\n",
      "\n",
      "############################################################\n",
      "def calculate_primes(limit=LIMIT_PRIME):\n",
      "    start_time = time.clock()\n",
      "    if (limit>len(prime_table)):\n",
      "        raise Exception(\"prime_table is too small ({} entries, need at least {})\".format(len(prime_table), limit))\n",
      "\n",
      "    # Optimization to allow us to increment i by 2 for the rest of the algoritm\n",
      "    i = 2\n",
      "    prime_table[i] = i\n",
      "    primes.append(i)\n",
      "    j = i**2\n",
      "    while (j < limit):\n",
      "        prime_table[j] = i\n",
      "        j += i\n",
      "\n",
      "    i = 3\n",
      "    while (i < (limit/2)):\n",
      "        if (prime_table[i] == 1):\n",
      "            primes.append(i)\n",
      "            j = i**2\n",
      "            while (j < limit):\n",
      "                prime_table[j] = i\n",
      "                j += i\n",
      "        i += 2\n",
      "    while (i < limit):\n",
      "        if (prime_table[i] == 1):\n",
      "            primes.append(i)\n",
      "        i += 2\n",
      "    print(\"There are {} primes less than {}, calculated in {} seconds\".format(len(primes), limit, (time.clock() - start_time)))\n",
      "\n",
      "calculate_primes(limit = 10**6)"
     ],
     "language": "python",
     "metadata": {},
     "outputs": []
    },
    {
     "cell_type": "code",
     "collapsed": false,
     "input": [
      "def product(nums):\n",
      "    from functools import reduce\n",
      "    import operator\n",
      "    return reduce(operator.mul, nums, 1)\n",
      "\n",
      "assert (product(primes[:3]) == 30)"
     ],
     "language": "python",
     "metadata": {},
     "outputs": [],
     "prompt_number": 56
    },
    {
     "cell_type": "code",
     "collapsed": false,
     "input": [
      "def comb(np, nums, x):\n",
      "    #print(\"    comb(np={np}, nums={nums}, x={x})\".format(np=np, nums=nums, x=x))\n",
      "    \"\"\"Iterate through results of np numbers from a sorted\n",
      "    list nums which have a product <= x\"\"\"\n",
      "    # Even if we use the smallest np numbers in the list,\n",
      "    # there are no valid possibilities with a product < x\n",
      "    if x/product(nums[:np]) < 1:\n",
      "        return\n",
      "    \n",
      "    if len(nums) == np:\n",
      "        yield nums\n",
      "    elif (np == 1):\n",
      "        for ans in nums:\n",
      "            if ans <= x:\n",
      "                yield [ans]\n",
      "    else:\n",
      "        for i in range(len(nums)-np+1):\n",
      "            # We're going to make nums[i] the first number on our list\n",
      "            if len(nums[i:]) == np:\n",
      "                yield nums[i:]\n",
      "                break\n",
      "                \n",
      "            new_np = np - 1\n",
      "            new_x = x/nums[i]\n",
      "            j = len(nums)\n",
      "            #print(\"Using [{}] and recursing to comb({}, {}, {}) but trimming {} first\".format(nums[i], new_np, nums[i+1:j],new_x, nums[i+1:j]))\n",
      "            while (product(nums[i:i+np-1])*nums[j-1] > x) & ((i+np)<j):\n",
      "                #print(\"trimmed list is nums[{}:{}] = {}\".format(i+1, j, nums[i+1:j]))\n",
      "                j -= 1\n",
      "            new_nums = nums[i+1:j]\n",
      "            #print(\"final trimmed list is {}\".format(new_nums))\n",
      "            for sub_soln in comb(new_np, new_nums, new_x):\n",
      "                yield [nums[i]] + sub_soln\n",
      "\n",
      "for x in comb(2, [2, 3, 5, 7], 100):\n",
      "    print x, product(x)\n",
      "    \n",
      "#for x in comb(np=4, nums=[2, 3, 5, 7, 11, 13, 17, 19, 23, 29, 31], x=1000):\n",
      "#for x in comb(np=4, nums=[2, 3, 5, 7, 11, 13, 17], x=220):\n",
      "#for x in comb(np=3, nums=[3, 5, 7, 11, 13, 17], x=110):\n",
      "#for x in comb(np=2, nums=[7, 11, 13, 17], x=22):\n",
      "#    print x"
     ],
     "language": "python",
     "metadata": {},
     "outputs": [
      {
       "output_type": "stream",
       "stream": "stdout",
       "text": [
        "[2, 3] 6\n",
        "[2, 5] 10\n",
        "[2, 7] 14\n",
        "[3, 5] 15\n",
        "[3, 7] 21\n",
        "[5, 7] 35\n"
       ]
      }
     ],
     "prompt_number": 172
    },
    {
     "cell_type": "code",
     "collapsed": false,
     "input": [
      "def pi(n):\n",
      "    \"\"\"Calculate the number of prime numbers less than n\"\"\"\n",
      "    # Assumes that calculate_primes() was already run\n",
      "    result = n - 1\n",
      "\n",
      "    # Subtract off the multiples of single primes\n",
      "    p = 0\n",
      "    while (primes[p]**2 < n):\n",
      "        result -= (n/primes[p] - 1)\n",
      "        p += 1\n",
      "\n",
      "    #print(\"Preliminary result = {}, working with primes[:{}] = {}\".format(result, p, primes[:p]))\n",
      "    \n",
      "    # Adjust for the multiples of more than one prime\n",
      "    nprime = 2\n",
      "    while (product(primes[:nprime]) < n):\n",
      "        # Find the last prime we need to look at\n",
      "        x = 1\n",
      "        while ((primes[x] <= n/product(primes[:nprime-1])) & (x < p)):\n",
      "            x += 1\n",
      "        \n",
      "        #print(\"Working with combinations of {nprime} primes from primes[:{x}] = {primes}\".format(nprime=nprime, x=x, primes=primes[:x]))\n",
      "        \n",
      "        adjust = 0\n",
      "        #print(\"Calling comb(np={np}, nums={nums}, x={x})\".format(np=nprime, nums=primes[:x], x=n))\n",
      "        for c in comb(nprime, primes[:x], n):\n",
      "            #print(\"    {} = {}, adjustment = {}\".format(c, product(c), n/product(c)))\n",
      "            adjust += n/product(c)\n",
      "        \n",
      "        #print(\"old result={}, adjustment={}, new result={}\".format(result, adjust, result+(-1)**nprime*adjust))\n",
      "        result += (-1)**nprime * adjust\n",
      "        nprime += 1\n",
      "\n",
      "    return result\n",
      "\n",
      "pi(10**6)"
     ],
     "language": "python",
     "metadata": {},
     "outputs": [
      {
       "metadata": {},
       "output_type": "pyout",
       "prompt_number": 187,
       "text": [
        "78498"
       ]
      }
     ],
     "prompt_number": 187
    },
    {
     "cell_type": "code",
     "collapsed": false,
     "input": [
      "import time\n",
      "for n in [1, 2, 3, 4, 5, 6, 7, 8]:\n",
      "    start_time = time.clock()\n",
      "    p = pi(10**n)\n",
      "    \n",
      "    print(\"pi(10**{}) ={}, calculated in {} seconds\".format(n, p, time.clock()-start_time))\n",
      "#print \"pi(10**2) =\", pi(10**2)\n",
      "#print \"pi(10**3) =\", pi(10**3)\n",
      "#print \"pi(10**4) =\", pi(10**4)\n",
      "#print \"pi(10**5) =\", pi(10**5)\n",
      "#print \"pi(10**6) =\", pi(10**6)\n",
      "#print \"pi(10**7) =\", pi(10**7)\n",
      "#print \"pi(10**8) =\", pi(10**8)\n",
      "#print \"pi(10**9) =\", pi(10**9)\n"
     ],
     "language": "python",
     "metadata": {},
     "outputs": [
      {
       "output_type": "stream",
       "stream": "stdout",
       "text": [
        "pi(10**1) =4, calculated in 5.20000000108e-05 seconds\n",
        "pi(10**2) =25, calculated in 0.000211000000007 seconds\n",
        "pi(10**3) =168, calculated in 0.003297 seconds\n",
        "pi(10**4) =1229, calculated in 0.024032 seconds\n",
        "pi(10**5) =9592, calculated in 0.342736 seconds"
       ]
      },
      {
       "output_type": "stream",
       "stream": "stdout",
       "text": [
        "\n",
        "pi(10**6) =78498, calculated in 3.563773 seconds"
       ]
      },
      {
       "output_type": "stream",
       "stream": "stdout",
       "text": [
        "\n",
        "pi(10**7) =664579, calculated in 55.598434 seconds"
       ]
      },
      {
       "output_type": "stream",
       "stream": "stdout",
       "text": [
        "\n",
        "pi(10**8) =5761455, calculated in 840.47933 seconds"
       ]
      },
      {
       "output_type": "stream",
       "stream": "stdout",
       "text": [
        "\n"
       ]
      }
     ],
     "prompt_number": 194
    },
    {
     "cell_type": "code",
     "collapsed": false,
     "input": [],
     "language": "python",
     "metadata": {},
     "outputs": []
    }
   ],
   "metadata": {}
  }
 ]
}