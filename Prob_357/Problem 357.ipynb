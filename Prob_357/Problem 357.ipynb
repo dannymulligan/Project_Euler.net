{
 "metadata": {
  "name": "",
  "signature": "sha256:08c4a9401313b72aa350ba7c58a453f19b727917a7b8f000211b812476fcc11a"
 },
 "nbformat": 3,
 "nbformat_minor": 0,
 "worksheets": [
  {
   "cells": [
    {
     "cell_type": "markdown",
     "metadata": {},
     "source": [
      "<img style=\"float: left\" src=\"https://projecteuler.net/themes/default/pe_logo_default.png\">\n",
      "<p>\n",
      "\n",
      "https://projecteuler.net/problem=357\n",
      "Problem 357 - Prime generating integers\n",
      "====\n",
      "\n",
      "Consider the divisors of $30$: $1,2,3,5,6,10,15,30$.\n",
      "\n",
      "It can be seen that for every divisor $d$ of $30$, $d+30/d$ is prime.\n",
      "\n",
      "Find the sum of all positive integers $n$ not exceeding 100,000,000 such that for every divisor $d$ of $n$, $d+n/d$ is prime."
     ]
    },
    {
     "cell_type": "markdown",
     "metadata": {},
     "source": [
      "Worked example for n=30\n",
      "---\n",
      "$$d = 1:  1 + 30/1 = 31$$\n",
      "$$d = 2:  2 + 30/2 = 17$$\n",
      "$$d = 3:  3 + 30/3 = 13$$\n",
      "$$d = 5:  5 + 30/5 = 11$$\n",
      "$$d = 6:  6 + 30/6 = 11$$\n",
      "$$d = 10: 10 + 30/10 = 13$$\n",
      "$$d = 15: 15 + 30/15 = 17$$\n",
      "$$d = 30: 30 + 30/30 = 31$$"
     ]
    },
    {
     "cell_type": "code",
     "collapsed": false,
     "input": [
      "import time\n",
      "start_time = time.clock()\n",
      "print(\"time taken {:.1f} seconds\".format(time.clock() - start_time))"
     ],
     "language": "python",
     "metadata": {},
     "outputs": []
    },
    {
     "cell_type": "code",
     "collapsed": false,
     "input": [
      "LIMIT_PRIME = 10**8+1\n",
      "#LIMIT_PRIME = 10**6+1\n",
      "prime_table = [1]*LIMIT_PRIME  # table of largest factor\n",
      "primes = []\n",
      "\n",
      "############################################################\n",
      "def calculate_primes(limit=LIMIT_PRIME):\n",
      "    start_time = time.clock()\n",
      "    if (limit>len(prime_table)):\n",
      "        raise Exception(\"prime_table is too small ({} entries, need at least {})\".format(len(prime_table), limit))\n",
      "\n",
      "    # Optimization to allow us to increment i by 2 for the rest of the algoritm\n",
      "    i = 2\n",
      "    primes.append(i)\n",
      "    j = i**2\n",
      "    while (j < limit):\n",
      "        prime_table[j] = i\n",
      "        j += i\n",
      "\n",
      "    i = 3\n",
      "    while (i < (limit/2)):\n",
      "        if (prime_table[i] == 1):\n",
      "            primes.append(i)\n",
      "            j = i**2\n",
      "            while (j < limit):\n",
      "                prime_table[j] = i\n",
      "                j += i\n",
      "        i += 2\n",
      "    while (i < limit):\n",
      "        if (prime_table[i] == 1):\n",
      "            primes.append(i)\n",
      "        i += 2\n",
      "    print(\"There are {} primes less than {}\".format(len(primes), limit))\n",
      "    print(\"time taken {:.1f} seconds\".format(time.clock() - start_time))\n",
      "\n",
      "calculate_primes(limit=LIMIT_PRIME)"
     ],
     "language": "python",
     "metadata": {},
     "outputs": []
    },
    {
     "cell_type": "code",
     "collapsed": false,
     "input": [
      "def factors(n):\n",
      "    answer = []\n",
      "    while True:\n",
      "        if prime_table[n] == 1:\n",
      "            answer.append(n)\n",
      "            answer.sort()\n",
      "            return answer\n",
      "        answer.append(prime_table[n])\n",
      "        n /= prime_table[n]"
     ],
     "language": "python",
     "metadata": {},
     "outputs": []
    },
    {
     "cell_type": "code",
     "collapsed": false,
     "input": [
      "def eliminate(p, d):\n",
      "    n = p - 1\n",
      "    if ((n % d) != 0):\n",
      "        return False\n",
      "    p1 = ((n / d) + d)\n",
      "    if prime_table[p1] != 1:\n",
      "        #print(\"    p={p}, n={n}, {d} + {n}/{d} ={p1} not prime\".format(p=p, n=n, d=d, p1=p1))\n",
      "        return True\n",
      "\n",
      "def gen_possible_n(n_limit):\n",
      "    for p in primes:\n",
      "        if p > n_limit:\n",
      "            return\n",
      "        if eliminate(p,2):\n",
      "            continue\n",
      "        if eliminate(p,3):\n",
      "            continue\n",
      "        if eliminate(p,5):\n",
      "            continue\n",
      "        if eliminate(p,7):\n",
      "            continue\n",
      "        if eliminate(p,11):\n",
      "            continue\n",
      "        if eliminate(p,13):\n",
      "            continue\n",
      "        if eliminate(p,17):\n",
      "            continue\n",
      "        if eliminate(p,19):\n",
      "            continue\n",
      "        if eliminate(p,23):\n",
      "            continue\n",
      "        if eliminate(p,29):\n",
      "            continue\n",
      "        if eliminate(p,31):\n",
      "            continue\n",
      "        if eliminate(p,37):\n",
      "            continue\n",
      "        if eliminate(p,41):\n",
      "            continue\n",
      "        if eliminate(p,43):\n",
      "            continue\n",
      "        if eliminate(p,47):\n",
      "            continue\n",
      "        yield p-1"
     ],
     "language": "python",
     "metadata": {},
     "outputs": []
    },
    {
     "cell_type": "code",
     "collapsed": false,
     "input": [
      "lim = 10**8\n",
      "count = 0\n",
      "longest_list = 0\n",
      "total_list = 0\n",
      "for n in gen_possible_n(lim):\n",
      "    #print(\"n={n}\".format(n=n)),\n",
      "    #print(\"n={n}, factors({n})={factors}\".format(n=n, factors=factors(n)))\n",
      "    longest_list = max(longest_list, len(factors(n)))\n",
      "    total_list += len(factors(n))\n",
      "    count += 1\n",
      "print(\"\")\n",
      "print(\"Found {} candidates out of {}\".format(count, lim))\n",
      "print(\"Longest list of factors had {} elements\".format(longest_list))\n",
      "print(\"Average list of factors was {} elements\".format(1.0*total_list/count))\n"
     ],
     "language": "python",
     "metadata": {},
     "outputs": []
    },
    {
     "cell_type": "code",
     "collapsed": false,
     "input": [
      "def product(l):\n",
      "    n = 1\n",
      "    for i in l:\n",
      "        n *= i\n",
      "    return n"
     ],
     "language": "python",
     "metadata": {},
     "outputs": []
    },
    {
     "cell_type": "code",
     "collapsed": false,
     "input": [
      "def prime(n):\n",
      "    if prime_table[n] == 1:\n",
      "        return True\n",
      "    else:\n",
      "        return False"
     ],
     "language": "python",
     "metadata": {},
     "outputs": []
    },
    {
     "cell_type": "code",
     "collapsed": false,
     "input": [
      "import itertools\n",
      "\n",
      "def test_357(n):\n",
      "    factor_list = factors(n)\n",
      "    factor_list.append(1)\n",
      "    factor_list.sort()\n",
      "    #print(\"Factors of {} are {}\".format(n, factor_list))\n",
      "    for l in range(1, len(factor_list)):\n",
      "        for sublist in itertools.permutations(factor_list, l):\n",
      "            d = product(sublist)\n",
      "            if not prime(d + n/d):\n",
      "            #    print(\"n={n}, {d} + {n}/{d} = {res} NOT PRIME\".format(n=n, d=d, res=d+(n/d)))\n",
      "                return False\n",
      "            #else:\n",
      "            #    print(\"n={n}, {d} + {n}/{d} = {res} prime\".format(n=n, d=d, res=d+(n/d)))\n",
      "    return True"
     ],
     "language": "python",
     "metadata": {},
     "outputs": []
    },
    {
     "cell_type": "code",
     "collapsed": false,
     "input": [
      "print test_357(30)"
     ],
     "language": "python",
     "metadata": {},
     "outputs": []
    },
    {
     "cell_type": "code",
     "collapsed": false,
     "input": [
      "lim = 10**8\n",
      "answer = 0\n",
      "for n in gen_possible_n(lim):\n",
      "    if test_357(n):\n",
      "        #print(\"n={n} passes the test\".format(n=n))\n",
      "        answer += n\n",
      "print(\"Answer = {}\".format(answer))\n"
     ],
     "language": "python",
     "metadata": {},
     "outputs": []
    },
    {
     "cell_type": "code",
     "collapsed": false,
     "input": [],
     "language": "python",
     "metadata": {},
     "outputs": []
    }
   ],
   "metadata": {}
  }
 ]
}