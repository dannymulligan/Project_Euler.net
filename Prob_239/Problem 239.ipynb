{
 "metadata": {
  "name": ""
 },
 "nbformat": 3,
 "nbformat_minor": 0,
 "worksheets": [
  {
   "cells": [
    {
     "cell_type": "markdown",
     "metadata": {},
     "source": [
      "![Project Euler.net](https://projecteuler.net/images/pe_banner_light.png)\n",
      "\n",
      "https://projecteuler.net/problem=239\n",
      "Problem 239 - Twenty-two Foolish Primes\n",
      "====\n",
      "\n",
      "A set of disks numbered 1 through 100 are placed in a line in random order.\n",
      "\n",
      "What is the probability that we have a partial derangement such that exactly 22 prime number discs are found away from their natural positions?\n",
      "(Any number of non-prime disks may also be found in or out of their natural positions.)\n",
      "\n",
      "Give your answer rounded to 12 places behind the decimal point in the form 0.abcdefghijkl.\n"
     ]
    },
    {
     "cell_type": "markdown",
     "metadata": {},
     "source": [
      "There are 25 primes between 1 and 100, as follows...\n",
      "\n",
      "2, 3, 5, 7, 11, 13, 17, 19, 23, 29, 31, 37, 41, 43, 47, 53, 59, 61, 67, 71, 73, 79, 83, 89, 97\n",
      "\n",
      "For any prime number, there is a 1/100 = 0.01 chance that it will be placed in the correct place."
     ]
    },
    {
     "cell_type": "code",
     "collapsed": false,
     "input": [
      "primes = [2, 3, 5, 7, 11, 13, 17, 19, 23, 29, 31, 37, 41,\n",
      "          43, 47, 53, 59, 61, 67, 71, 73, 79, 83, 89, 97]\n",
      "num_nums = 100  # Used to determine probability\n",
      "num_primes = len(primes)"
     ],
     "language": "python",
     "metadata": {},
     "outputs": [],
     "prompt_number": 1
    },
    {
     "cell_type": "code",
     "collapsed": false,
     "input": [
      "# Calculate probabilities manually for a smaller problem\n",
      "\n",
      "import itertools\n",
      "\n",
      "size = 5\n",
      "nums = [i for i in range(1,size+1)]\n",
      "nn = [0] * (size+1)\n",
      "n_perm = 0\n",
      "n = [0]*(size+1)\n",
      "for i in itertools.permutations(nums):\n",
      "    ii = [0] + list(i)\n",
      "    n_perm += 1\n",
      "    np = 0\n",
      "    n_match = 0\n",
      "    for p in [2, 3, 5, 7, 11, 13, 17, 19]:\n",
      "        if p > size:  break\n",
      "        else:         np += 1\n",
      "        if ii[p] == p:\n",
      "            n[p] += 1\n",
      "            n_match += 1\n",
      "    nn[n_match] += 1\n",
      "    #if ii[2] != 2:\n",
      "    print(\"{} has {} matches\".format(ii[1:], n_match))\n",
      "\n",
      "print(\"n_perm = {}\".format(n_perm))\n",
      "print nn\n",
      "for x, y in zip(range(np+1), nn):\n",
      "    print(\"There were {} matches {} times out of {} = {}\".format(x, y, n_perm, 1.0*y/n_perm))\n"
     ],
     "language": "python",
     "metadata": {},
     "outputs": [
      {
       "output_type": "stream",
       "stream": "stdout",
       "text": [
        "[1, 2, 3, 4, 5] has 3 matches\n",
        "[1, 2, 3, 5, 4] has 2 matches\n",
        "[1, 2, 4, 3, 5] has 2 matches\n",
        "[1, 2, 4, 5, 3] has 1 matches\n",
        "[1, 2, 5, 3, 4] has 1 matches\n",
        "[1, 2, 5, 4, 3] has 1 matches\n",
        "[1, 3, 2, 4, 5] has 1 matches\n",
        "[1, 3, 2, 5, 4] has 0 matches\n",
        "[1, 3, 4, 2, 5] has 1 matches\n",
        "[1, 3, 4, 5, 2] has 0 matches\n",
        "[1, 3, 5, 2, 4] has 0 matches\n",
        "[1, 3, 5, 4, 2] has 0 matches\n",
        "[1, 4, 2, 3, 5] has 1 matches\n",
        "[1, 4, 2, 5, 3] has 0 matches\n",
        "[1, 4, 3, 2, 5] has 2 matches\n",
        "[1, 4, 3, 5, 2] has 1 matches\n",
        "[1, 4, 5, 2, 3] has 0 matches\n",
        "[1, 4, 5, 3, 2] has 0 matches\n",
        "[1, 5, 2, 3, 4] has 0 matches\n",
        "[1, 5, 2, 4, 3] has 0 matches\n",
        "[1, 5, 3, 2, 4] has 1 matches\n",
        "[1, 5, 3, 4, 2] has 1 matches\n",
        "[1, 5, 4, 2, 3] has 0 matches\n",
        "[1, 5, 4, 3, 2] has 0 matches\n",
        "[2, 1, 3, 4, 5] has 2 matches\n",
        "[2, 1, 3, 5, 4] has 1 matches\n",
        "[2, 1, 4, 3, 5] has 1 matches\n",
        "[2, 1, 4, 5, 3] has 0 matches\n",
        "[2, 1, 5, 3, 4] has 0 matches\n",
        "[2, 1, 5, 4, 3] has 0 matches\n",
        "[2, 3, 1, 4, 5] has 1 matches\n",
        "[2, 3, 1, 5, 4] has 0 matches\n",
        "[2, 3, 4, 1, 5] has 1 matches\n",
        "[2, 3, 4, 5, 1] has 0 matches\n",
        "[2, 3, 5, 1, 4] has 0 matches\n",
        "[2, 3, 5, 4, 1] has 0 matches\n",
        "[2, 4, 1, 3, 5] has 1 matches\n",
        "[2, 4, 1, 5, 3] has 0 matches\n",
        "[2, 4, 3, 1, 5] has 2 matches\n",
        "[2, 4, 3, 5, 1] has 1 matches\n",
        "[2, 4, 5, 1, 3] has 0 matches\n",
        "[2, 4, 5, 3, 1] has 0 matches\n",
        "[2, 5, 1, 3, 4] has 0 matches\n",
        "[2, 5, 1, 4, 3] has 0 matches\n",
        "[2, 5, 3, 1, 4] has 1 matches\n",
        "[2, 5, 3, 4, 1] has 1 matches\n",
        "[2, 5, 4, 1, 3] has 0 matches\n",
        "[2, 5, 4, 3, 1] has 0 matches\n",
        "[3, 1, 2, 4, 5] has 1 matches\n",
        "[3, 1, 2, 5, 4] has 0 matches\n",
        "[3, 1, 4, 2, 5] has 1 matches\n",
        "[3, 1, 4, 5, 2] has 0 matches\n",
        "[3, 1, 5, 2, 4] has 0 matches\n",
        "[3, 1, 5, 4, 2] has 0 matches\n",
        "[3, 2, 1, 4, 5] has 2 matches\n",
        "[3, 2, 1, 5, 4] has 1 matches\n",
        "[3, 2, 4, 1, 5] has 2 matches\n",
        "[3, 2, 4, 5, 1] has 1 matches\n",
        "[3, 2, 5, 1, 4] has 1 matches\n",
        "[3, 2, 5, 4, 1] has 1 matches\n",
        "[3, 4, 1, 2, 5] has 1 matches\n",
        "[3, 4, 1, 5, 2] has 0 matches\n",
        "[3, 4, 2, 1, 5] has 1 matches\n",
        "[3, 4, 2, 5, 1] has 0 matches\n",
        "[3, 4, 5, 1, 2] has 0 matches\n",
        "[3, 4, 5, 2, 1] has 0 matches\n",
        "[3, 5, 1, 2, 4] has 0 matches\n",
        "[3, 5, 1, 4, 2] has 0 matches\n",
        "[3, 5, 2, 1, 4] has 0 matches\n",
        "[3, 5, 2, 4, 1] has 0 matches\n",
        "[3, 5, 4, 1, 2] has 0 matches\n",
        "[3, 5, 4, 2, 1] has 0 matches\n",
        "[4, 1, 2, 3, 5] has 1 matches\n",
        "[4, 1, 2, 5, 3] has 0 matches\n",
        "[4, 1, 3, 2, 5] has 2 matches\n",
        "[4, 1, 3, 5, 2] has 1 matches\n",
        "[4, 1, 5, 2, 3] has 0 matches\n",
        "[4, 1, 5, 3, 2] has 0 matches\n",
        "[4, 2, 1, 3, 5] has 2 matches\n",
        "[4, 2, 1, 5, 3] has 1 matches\n",
        "[4, 2, 3, 1, 5] has 3 matches\n",
        "[4, 2, 3, 5, 1] has 2 matches\n",
        "[4, 2, 5, 1, 3] has 1 matches\n",
        "[4, 2, 5, 3, 1] has 1 matches\n",
        "[4, 3, 1, 2, 5] has 1 matches\n",
        "[4, 3, 1, 5, 2] has 0 matches\n",
        "[4, 3, 2, 1, 5] has 1 matches\n",
        "[4, 3, 2, 5, 1] has 0 matches\n",
        "[4, 3, 5, 1, 2] has 0 matches\n",
        "[4, 3, 5, 2, 1] has 0 matches\n",
        "[4, 5, 1, 2, 3] has 0 matches\n",
        "[4, 5, 1, 3, 2] has 0 matches\n",
        "[4, 5, 2, 1, 3] has 0 matches\n",
        "[4, 5, 2, 3, 1] has 0 matches\n",
        "[4, 5, 3, 1, 2] has 1 matches\n",
        "[4, 5, 3, 2, 1] has 1 matches\n",
        "[5, 1, 2, 3, 4] has 0 matches\n",
        "[5, 1, 2, 4, 3] has 0 matches\n",
        "[5, 1, 3, 2, 4] has 1 matches\n",
        "[5, 1, 3, 4, 2] has 1 matches\n",
        "[5, 1, 4, 2, 3] has 0 matches\n",
        "[5, 1, 4, 3, 2] has 0 matches\n",
        "[5, 2, 1, 3, 4] has 1 matches\n",
        "[5, 2, 1, 4, 3] has 1 matches\n",
        "[5, 2, 3, 1, 4] has 2 matches\n",
        "[5, 2, 3, 4, 1] has 2 matches\n",
        "[5, 2, 4, 1, 3] has 1 matches\n",
        "[5, 2, 4, 3, 1] has 1 matches\n",
        "[5, 3, 1, 2, 4] has 0 matches\n",
        "[5, 3, 1, 4, 2] has 0 matches\n",
        "[5, 3, 2, 1, 4] has 0 matches\n",
        "[5, 3, 2, 4, 1] has 0 matches\n",
        "[5, 3, 4, 1, 2] has 0 matches\n",
        "[5, 3, 4, 2, 1] has 0 matches\n",
        "[5, 4, 1, 2, 3] has 0 matches\n",
        "[5, 4, 1, 3, 2] has 0 matches\n",
        "[5, 4, 2, 1, 3] has 0 matches\n",
        "[5, 4, 2, 3, 1] has 0 matches\n",
        "[5, 4, 3, 1, 2] has 1 matches\n",
        "[5, 4, 3, 2, 1] has 1 matches\n",
        "n_perm = 120\n",
        "[64, 42, 12, 2, 0, 0]\n",
        "There were 0 matches 64 times out of 120 = 0.533333333333\n",
        "There were 1 matches 42 times out of 120 = 0.35\n",
        "There were 2 matches 12 times out of 120 = 0.1\n",
        "There were 3 matches 2 times out of 120 = 0.0166666666667\n"
       ]
      }
     ],
     "prompt_number": 2
    },
    {
     "cell_type": "code",
     "collapsed": false,
     "input": [
      "import math\n",
      "\n",
      "def nCr(n,r):\n",
      "    f = math.factorial\n",
      "    return f(n) / f(r) / f(n-r)\n",
      "\n",
      "from fractions import Fraction\n"
     ],
     "language": "python",
     "metadata": {},
     "outputs": [],
     "prompt_number": 3
    },
    {
     "cell_type": "code",
     "collapsed": false,
     "input": [
      "def P(n, x, y):\n",
      "    answer = Fraction(1,1)\n",
      "    for i in range(n):\n",
      "        answer *= Fraction(1,y-i)\n",
      "    return answer\n",
      "\n",
      "def probs(x, y):\n",
      "    exactly_n = [Fraction(0,1)] * (x+1)\n",
      "    for n in range(x, -1, -1):\n",
      "        # Calculate the probability of exactly n matches\n",
      "        exactly_n[n] = P(n, x, y)\n",
      "        #print(\"exactly_n[{n}] = P({n}, {x}, {y}) = {a}\".format(n=n, x=x, y=y, a=P(n, x, y)))\n",
      "        for i in range(1, x-n+1):\n",
      "            exactly_n[n] -= nCr(x-n, i) * exactly_n[n+i]\n",
      "            #print(\"exactly_n[{n}] -= nCr({x}-{n}, {i}) * exactly_n[{n}+{i}]\".format(x=x, n=n, i=i))\n",
      "            #print(\"             -= nCr({a}, {i})   * exactly_n[{b}]\".format(a=x-n, b=n+i, i=i))\n",
      "            #print(\"           -= {a} * {b} = {c}\".format(a=nCr(x-n, i), b=exactly_n[i], c=nCr(x-n, i) * exactly_n[i]))\n",
      "        #print(\"================\")\n",
      "    return exactly_n"
     ],
     "language": "python",
     "metadata": {},
     "outputs": [],
     "prompt_number": 4
    },
    {
     "cell_type": "code",
     "collapsed": false,
     "input": [
      "# Check the results for a smaller version of the problem\n",
      "probs(4,7) == [Fraction(465,840), Fraction(71,840), Fraction(13,840), Fraction(3,840), Fraction(1, 840)]"
     ],
     "language": "python",
     "metadata": {},
     "outputs": [
      {
       "metadata": {},
       "output_type": "pyout",
       "prompt_number": 5,
       "text": [
        "True"
       ]
      }
     ],
     "prompt_number": 5
    },
    {
     "cell_type": "code",
     "collapsed": false,
     "input": [
      "x = 4  # 4 primes\n",
      "y = 7  # 7 numbers including 4 primes\n",
      "p = probs(x,y)\n",
      "for i in range(0,x+1):\n",
      "    p[i] *= nCr(x,i)"
     ],
     "language": "python",
     "metadata": {},
     "outputs": [],
     "prompt_number": 6
    },
    {
     "cell_type": "code",
     "collapsed": false,
     "input": [
      "p"
     ],
     "language": "python",
     "metadata": {},
     "outputs": [
      {
       "metadata": {},
       "output_type": "pyout",
       "prompt_number": 7,
       "text": [
        "[Fraction(31, 56),\n",
        " Fraction(71, 210),\n",
        " Fraction(13, 140),\n",
        " Fraction(1, 70),\n",
        " Fraction(1, 840)]"
       ]
      }
     ],
     "prompt_number": 7
    },
    {
     "cell_type": "code",
     "collapsed": false,
     "input": [
      "x = 25   # 25 primes\n",
      "y = 100  # 100 numbers including 25 primes\n",
      "p = probs(x,y)\n",
      "for i in range(0,x+1):\n",
      "    p[i] *= nCr(x,i)"
     ],
     "language": "python",
     "metadata": {},
     "outputs": [],
     "prompt_number": 8
    },
    {
     "cell_type": "code",
     "collapsed": false,
     "input": [
      "print(\"{}\".format(float(p[3])))\n",
      "print(\"{:2.10}\".format(float(p[3])))"
     ],
     "language": "python",
     "metadata": {},
     "outputs": [
      {
       "output_type": "stream",
       "stream": "stdout",
       "text": [
        "0.00188785484103\n",
        "0.001887854841\n"
       ]
      }
     ],
     "prompt_number": 9
    },
    {
     "cell_type": "code",
     "collapsed": false,
     "input": [],
     "language": "python",
     "metadata": {},
     "outputs": []
    }
   ],
   "metadata": {}
  }
 ]
}