{
 "metadata": {
  "name": "",
  "signature": "sha256:af1d1a9d4e68d72f72fc976d264826f4c6e45412063f5df42d63c8d098ce49df"
 },
 "nbformat": 3,
 "nbformat_minor": 0,
 "worksheets": [
  {
   "cells": [
    {
     "cell_type": "markdown",
     "metadata": {},
     "source": [
      "![Project Euler.net](https://projecteuler.net/images/pe_banner_light.png)\n",
      "\n",
      "https://projecteuler.net/problem=152\n",
      "Problem 152 - Writing 1/2 as a sum of inverse squares\n",
      "====\n",
      "\n",
      "There are several ways to write the number 1/2 as a sum of inverse squares using distinct integers.\n",
      "\n",
      "For instance, the numbers ${2,3,4,5,7,12,15,20,28,35}$ can be used:\n",
      "\n",
      "$1/2 = 1/2^2 + 1/3^2 + 1/4^2 + 1/5^2 + 1/7^2 + 1/12^2 + 1/15^2 + 1/20^2 + 1/28^2 + 1/35^2$\n",
      "\n",
      "In fact, only using integers between 2 and 45 inclusive, there are exactly three ways to do it, the remaining two being: ${2,3,4,6,7,9,10,20,28,35,36,45}$ and ${2,3,4,6,7,9,12,15,28,30,35,36,45}$.\n",
      "\n",
      "How many ways are there to write the number 1/2 as a sum of inverse squares using distinct integers between 2 and 80 inclusive?\n"
     ]
    },
    {
     "cell_type": "markdown",
     "metadata": {},
     "source": [
      "____\n"
     ]
    },
    {
     "cell_type": "code",
     "collapsed": false,
     "input": [
      "from fractions import Fraction\n",
      "result = Fraction()\n",
      "for n in [2, 3, 4, 5, 7, 12, 15, 20, 28, 35]:\n",
      "    result += Fraction(1, n**2)\n",
      "    print result"
     ],
     "language": "python",
     "metadata": {},
     "outputs": []
    },
    {
     "cell_type": "code",
     "collapsed": false,
     "input": [
      "from fractions import Fraction\n",
      "MAX = 35  # Inclusive, so need to use MAX+1 in lots of ranges\n",
      "values = [0]\n",
      "for i in range(1,MAX+1):\n",
      "    values.append(Fraction(1, i**2))\n",
      "\n",
      "max_values = []\n",
      "for i in range(MAX+1):\n",
      "    max_values.append(sum(values[i:MAX+1]))\n",
      "max_values.append(Fraction(0,1))\n",
      "\n",
      "print float(sum(values[2:MAX+1]))\n",
      "print float(max_values[2])"
     ],
     "language": "python",
     "metadata": {},
     "outputs": [
      {
       "output_type": "stream",
       "stream": "stdout",
       "text": [
        "0.616766914907\n",
        "0.616766914907\n"
       ]
      }
     ],
     "prompt_number": 1
    },
    {
     "cell_type": "code",
     "collapsed": false,
     "input": [
      "def ways(frac, n):\n",
      "    \"\"\"Recursive generator to find ways to sum to frac\n",
      "    by adding terms like 1/n^2, 1/(n+1)^2, etc\"\"\"\n",
      "    #print(\"ways(frac={}, n={})\".format(frac, n))\n",
      "    \n",
      "    # We have the following possibilities to check...\n",
      "    #\n",
      "    #      {n}\n",
      "    #       | {n, n+1, ...}\n",
      "    #       |  | {n+1, n+2, ...}\n",
      "    #       |  |  |\n",
      "    # frac  >  >  x   --> no solutions possible\n",
      "    # frac  >  <= >   --> try solutions with {n}\n",
      "    # frac  >  <= <=  --> try solutions with and without {n}\n",
      "    # frac  =  x  >   --> return {n}, no other solutions\n",
      "    # frac  =  x  <=  --> return {n}, try solutions without {n}\n",
      "    # frac  <  x  >   --> no solutions possible\n",
      "    # frac  <  x  <=  --> try solutions without {n}\n",
      "    if (frac == Fraction(0,1)):\n",
      "        return  # No solutions\n",
      "    \n",
      "    if (n == MAX):\n",
      "        # We have recursed as deep as we can go\n",
      "        if (frac == values[n]):\n",
      "            yield [n]  # Only one solution\n",
      "        else:\n",
      "            return     # No solutions\n",
      "\n",
      "    elif (frac > values[n]):\n",
      "        if (frac > max_values[n]):\n",
      "            # frac  >  >  x   --> no solutions possible\n",
      "            return\n",
      "        else:\n",
      "            if (frac > max_values[n+1]):\n",
      "                # frac  >  <= >   --> try solutions with {n}\n",
      "                for sub_soln in ways(frac-values[n], n+1):\n",
      "                    yield [n] + sub_soln\n",
      "            else:\n",
      "                # frac  >  <= <=  --> try solutions with and without {n}\n",
      "                for sub_soln in ways(frac-values[n], n+1):\n",
      "                    yield [n] + sub_soln\n",
      "                for sub_soln in ways(frac, n+1):\n",
      "                    yield sub_soln\n",
      "\n",
      "    elif (frac == values[n]):\n",
      "        if (frac > max_values[n+1]):\n",
      "            # frac  =  x  >   --> return {n}, no other solutions\n",
      "            yield [n]\n",
      "            return\n",
      "        else:  # (frac <= max_values[n+1])\n",
      "            # frac  =  x  <=  --> return {n}, try solutions without {n}\n",
      "            yield [n]\n",
      "            for sub_soln in ways(frac, n+1):\n",
      "                yield sub_soln\n",
      "            \n",
      "    else:  # (frac < values[n])\n",
      "        if (frac > max_values[n+1]):\n",
      "            # frac  <  x  >   --> no solutions possible\n",
      "            return\n",
      "        else:  # (frac <= max_values[n+1])\n",
      "            # frac  <  x  <=  --> try solutions without {n}\n",
      "            for sub_soln in ways(frac, n+1):\n",
      "                yield sub_soln"
     ],
     "language": "python",
     "metadata": {},
     "outputs": [],
     "prompt_number": 2
    },
    {
     "cell_type": "code",
     "collapsed": false,
     "input": [
      "import time\n",
      "start = time.clock()\n",
      "\n",
      "for v_target in [\\\n",
      "    [           ], \\\n",
      "    [         5,], \\\n",
      "    [      4,   ], \\\n",
      "    [      4, 5,], \\\n",
      "    [   3,      ], \\\n",
      "    [   3,    5,], \\\n",
      "    [   3, 4,   ], \\\n",
      "    [   3, 4, 5,], \\\n",
      "    [2,         ], \\\n",
      "    [2,       5,], \\\n",
      "    [2,    4,   ], \\\n",
      "    [2,    4, 5,], \\\n",
      "    [2, 3,      ], \\\n",
      "    [2, 3,    5,], \\\n",
      "    [2, 3, 4,   ], \\\n",
      "    [2, 3, 4, 5,], \\\n",
      "    ]:\n",
      "    print(\"----------------\")\n",
      "    \n",
      "    target = Fraction(0, 1)\n",
      "    for x in v_target:\n",
      "        target += Fraction(1, x**2)\n",
      "    \n",
      "    print(\"looking for ways to create {} ({})\".format(target, v_target))\n",
      "    for ans in ways(target, 2):\n",
      "        print ans\n",
      "print(\"Execution took {:.3f} seconds\".format(time.clock() - start)) "
     ],
     "language": "python",
     "metadata": {},
     "outputs": []
    },
    {
     "cell_type": "code",
     "collapsed": false,
     "input": [
      "import time\n",
      "start = time.clock()\n",
      "\n",
      "target = Fraction(1,2)\n",
      "print(\"looking for ways to create {} with depth {}\".format(target, MAX))\n",
      "for ans in ways(target, 2):\n",
      "    print ans\n",
      "\n",
      "print(\"Execution took {:.3f} seconds\".format(time.clock() - start))"
     ],
     "language": "python",
     "metadata": {},
     "outputs": [
      {
       "output_type": "stream",
       "stream": "stdout",
       "text": [
        "looking for ways to create 1/2 with depth 35\n",
        "[2, 3, 4, 5, 7, 12, 15, 20, 28, 35]"
       ]
      },
      {
       "output_type": "stream",
       "stream": "stdout",
       "text": [
        "\n",
        "Execution took 1511.455 seconds"
       ]
      },
      {
       "output_type": "stream",
       "stream": "stdout",
       "text": [
        "\n"
       ]
      }
     ],
     "prompt_number": 8
    },
    {
     "cell_type": "code",
     "collapsed": false,
     "input": [
      "from fractions import Fraction\n",
      "def evaluate(nums):\n",
      "    ans = Fraction(0,1)\n",
      "    for n in nums:\n",
      "        ans += Fraction(1,n**2)\n",
      "    return ans"
     ],
     "language": "python",
     "metadata": {},
     "outputs": [],
     "prompt_number": 2
    },
    {
     "cell_type": "code",
     "collapsed": false,
     "input": [
      "import itertools\n",
      "ACCEL = 14\n",
      "nums = [n for n in range(2, 2+ACCEL)]\n",
      "results = []\n",
      "for l in range(1,ACCEL+1):\n",
      "    for s in itertools.combinations(nums, l):\n",
      "        s = list(s)\n",
      "        es = evaluate(s)\n",
      "        results.append([es, s])\n",
      "results.sort()"
     ],
     "language": "python",
     "metadata": {},
     "outputs": [],
     "prompt_number": 38
    },
    {
     "cell_type": "code",
     "collapsed": false,
     "input": [
      "nums2 = [n for n in range(2+ACCEL, 2+2*ACCEL)]\n",
      "#print nums, nums2\n",
      "\n",
      "results2 = []\n",
      "for l in range(1,2*ACCEL+2):\n",
      "    for s in itertools.combinations(nums2, l):\n",
      "        s = list(s)\n",
      "        es = evaluate(s)\n",
      "        results2.append([es, s])\n",
      "results2.append([Fraction(0,1), []])\n",
      "results2.sort()\n",
      "\n",
      "print len(results), results[:10], \"\\n\", len(results2), results2[:10]\n",
      "print float(results2[0][0]), float(results2[-1][0])\n",
      "print float(max_values[2+ACCEL]), float(max_values[2+2*ACCEL])"
     ],
     "language": "python",
     "metadata": {},
     "outputs": [
      {
       "output_type": "stream",
       "stream": "stdout",
       "text": [
        "16383 [[Fraction(1, 225), [15]], [Fraction(1, 196), [14]], [Fraction(1, 169), [13]], [Fraction(1, 144), [12]], [Fraction(1, 121), [11]], [Fraction(421, 44100), [14, 15]], [Fraction(1, 100), [10]], [Fraction(394, 38025), [13, 15]], [Fraction(365, 33124), [13, 14]], [Fraction(41, 3600), [12, 15]]] \n",
        "16384 [[Fraction(0, 1), []], [Fraction(1, 841), [29]], [Fraction(1, 784), [28]], [Fraction(1, 729), [27]], [Fraction(1, 676), [26]], [Fraction(1, 625), [25]], [Fraction(1, 576), [24]], [Fraction(1, 529), [23]], [Fraction(1, 484), [22]], [Fraction(1, 441), [21]]]\n",
        "0.0 0.0305987230455\n",
        "0.0363266314622 0.00572790841671\n"
       ]
      }
     ],
     "prompt_number": 39
    },
    {
     "cell_type": "code",
     "collapsed": false,
     "input": [
      "import time\n",
      "start = time.clock()\n",
      "mmax = Fraction(1,2)\n",
      "mmin = Fraction(1,2) - max_values[2+ACCEL]\n",
      "print(\"range = {} to {}\".format(mmin, mmax))\n",
      "print(\"range = {} to {}\".format(float(mmin), float(mmax)))\n",
      "valid = 0\n",
      "valid_valid = 0\n",
      "for res in results:\n",
      "    if ((res[0] >= mmin) & (res[0] <= mmax)):\n",
      "        #print \">\", float(res[0]), res\n",
      "        valid += 1\n",
      "        \n",
      "        mmax2 = Fraction(1,2) - res[0]\n",
      "        mmin2 = Fraction(1,2) - res[0] - max_values[2+2*ACCEL]\n",
      "        #print(\"  Consider next level in range {} to {}\".format(float(mmin2), float(mmax2)))\n",
      "        valid2 = 0\n",
      "        for res2 in results2:\n",
      "            if ((res2[0] >= mmin2) & (res2[0] <= mmax2)):\n",
      "                #print \">\", float(res[0]+res2[0]), [res[0]+res2[0], res[1]+res2[1]]\n",
      "                valid2 += 1\n",
      "            #else:\n",
      "            #    print \"   =/=\", float(res2[0]), res2\n",
      "        #print \" \", valid2, \"cases\"\n",
      "        valid_valid += valid2\n",
      "    #else:\n",
      "    #    print res\n",
      "print(\"{} valid cases, out of {} = {:.1f}%\".format(valid, len(results), 100.0*valid/len(results)))\n",
      "print(\"{} total regressions to the 2nd level\".format(valid_valid))\n",
      "print(\"Execution took {:.3f} seconds\".format(time.clock() - start)) "
     ],
     "language": "python",
     "metadata": {},
     "outputs": [
      {
       "output_type": "stream",
       "stream": "stdout",
       "text": [
        "range = 9668696099610167320652249939/20852386088294732932920960000 to 1/2\n",
        "range = 0.463673368538 to 0.5\n",
        "1189 valid cases, out of 16383 = 7.3%"
       ]
      },
      {
       "output_type": "stream",
       "stream": "stdout",
       "text": [
        "\n",
        "3102923 total regressions to the 2nd level\n",
        "Execution took 142.586 seconds\n"
       ]
      }
     ],
     "prompt_number": 40
    },
    {
     "cell_type": "code",
     "collapsed": false,
     "input": [
      "nums"
     ],
     "language": "python",
     "metadata": {},
     "outputs": [
      {
       "metadata": {},
       "output_type": "pyout",
       "prompt_number": 40,
       "text": [
        "[2, 3, 4, 5, 6, 7, 8, 9]"
       ]
      }
     ],
     "prompt_number": 40
    },
    {
     "cell_type": "code",
     "collapsed": false,
     "input": [],
     "language": "python",
     "metadata": {},
     "outputs": []
    }
   ],
   "metadata": {}
  }
 ]
}