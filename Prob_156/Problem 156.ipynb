{
 "metadata": {
  "name": "",
  "signature": "sha256:0831ed543657915a8f71ae11a6ddb35a8d693eb92630bc840d0e2be700e160ec"
 },
 "nbformat": 3,
 "nbformat_minor": 0,
 "worksheets": [
  {
   "cells": [
    {
     "cell_type": "markdown",
     "metadata": {},
     "source": [
      "![Project Euler.net](https://projecteuler.net/images/pe_banner_light.png)\n",
      "\n",
      "https://projecteuler.net/problem=156\n",
      "Problem 156 - Counting Digits\n",
      "====\n",
      "\n",
      "\n",
      "\n",
      "Starting from zero the natural numbers are written down in base 10 like this:\n",
      "0 1 2 3 4 5 6 7 8 9 10 11 12....\n",
      "\n",
      "Consider the digit $d=1$. After we write down each number $n$, we will update the number of ones that have occurred and call this number $f(n,1)$. The first values for $f(n,1)$, then, are as follows:\n",
      "\n",
      " n  | f(n,1) \n",
      "----|--------\n",
      " 0  | 0      \n",
      " 1  | 1      \n",
      " 2  | 1      \n",
      " 3  | 1      \n",
      " 4  | 1      \n",
      " 5  | 1      \n",
      " 6  | 1      \n",
      " 7  | 1      \n",
      " 8  | 1      \n",
      " 9  | 1      \n",
      " 10 | 2      \n",
      " 11 | 4      \n",
      " 12 | 5      \n",
      "\n",
      "Note that $f(n,1)$ never equals $3$.\n",
      "So the first two solutions of the equation $f(n,1)=n$ are $n=0$ and $n=1$. The next solution is $n=199981$.\n",
      "\n",
      "In the same manner the function $f(n,d)$ gives the total number of digits $d$ that have been written down after the number $n$ has been written.\n",
      "In fact, for every digit $d \u2260 0$, $0$ is the first solution of the equation $f(n,d)=n$.\n",
      "\n",
      "Let $s(d)$ be the sum of all the solutions for which $f(n,d)=n$.\n",
      "You are given that $s(1)=22786974071$.\n",
      "\n",
      "Find $\u2211 s(d)$ for $1 \u2264 d \u2264 9$.\n",
      "\n",
      "Note: if, for some $n$, $f(n,d)=n$ for more than one value of $d$ this value of $n$ is counted again for every value of $d$ for which $f(n,d)=n$.\n"
     ]
    },
    {
     "cell_type": "markdown",
     "metadata": {},
     "source": [
      "Discussion"
     ]
    },
    {
     "cell_type": "code",
     "collapsed": false,
     "input": [],
     "language": "python",
     "metadata": {},
     "outputs": [],
     "prompt_number": 2
    }
   ],
   "metadata": {}
  }
 ]
}